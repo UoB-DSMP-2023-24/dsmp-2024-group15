{
 "cells": [
  {
   "cell_type": "code",
   "execution_count": 1,
   "id": "d455cf82-e58b-4bf4-9c12-a704f124d286",
   "metadata": {},
   "outputs": [],
   "source": [
    "file_path = '/Users/tanmaysagarhuria/Downloads/combined_df 3.csv'"
   ]
  },
  {
   "cell_type": "code",
   "execution_count": 4,
   "id": "1e46b864-1f7e-4810-88b0-0e0cdf93205d",
   "metadata": {},
   "outputs": [],
   "source": [
    "import pandas as pd\n",
    "import matplotlib.pyplot as plt"
   ]
  },
  {
   "cell_type": "code",
   "execution_count": 5,
   "id": "0a9e3055-5e7b-4876-88ee-90be96979794",
   "metadata": {},
   "outputs": [],
   "source": [
    "# Reading the CSV file into a DataFrame\n",
    "combined_df = pd.read_csv(file_path)"
   ]
  },
  {
   "cell_type": "code",
   "execution_count": 6,
   "id": "687d9973-43b6-4ff7-aed4-1e5fa9dbad7e",
   "metadata": {},
   "outputs": [],
   "source": [
    "# Assuming your DataFrame is named combined_df\n",
    "# Dropping the 'Time' column from the DataFrame\n",
    "combined_df = combined_df.drop('Time', axis=1)\n",
    "\n",
    "# Now 'Time' column is removed, and you can use 'adjusted_time' for your calculations.\n"
   ]
  },
  {
   "cell_type": "code",
   "execution_count": 7,
   "id": "f2af3406-d279-4ae3-b4d5-b57211d9cf0b",
   "metadata": {},
   "outputs": [],
   "source": [
    "# Assuming your DataFrame is named combined_df\n",
    "# Extract the date from the source_file column\n",
    "combined_df['date'] = combined_df['source_file'].str.extract(r'(\\d{4}-\\d{2}-\\d{2})')\n",
    "combined_df['date'] = pd.to_datetime(combined_df['date'])\n",
    "\n",
    "# Now you have a new column 'date' with datetime objects that can be used for analysis.\n"
   ]
  },
  {
   "cell_type": "code",
   "execution_count": 8,
   "id": "c31faf7d-4208-400b-a849-62308cdff8e9",
   "metadata": {},
   "outputs": [],
   "source": [
    "# Assuming your DataFrame is named combined_df\n",
    "combined_df.drop('source_file', axis=1, inplace=True)\n"
   ]
  },
  {
   "cell_type": "code",
   "execution_count": 9,
   "id": "c2cad282-82e4-4607-803c-d84ea886b956",
   "metadata": {},
   "outputs": [],
   "source": [
    "# Assuming your DataFrame is named combined_df and has a 'date' column\n",
    "# Extracting day number from the 'date' column\n",
    "combined_df['day_number'] = combined_df['date'].dt.dayofyear\n",
    "\n",
    "# Now your DataFrame has a 'day_number' column representing the day of the year for each date\n"
   ]
  },
  {
   "cell_type": "code",
   "execution_count": 10,
   "id": "868570f7-193a-4a15-b896-0a430bb5ce5e",
   "metadata": {},
   "outputs": [],
   "source": [
    "# Assuming your DataFrame is named combined_df and has a 'date' column\n",
    "# Extracting month number from the 'date' column\n",
    "combined_df['month_number'] = combined_df['date'].dt.month\n",
    "\n",
    "# Now your DataFrame has a 'month_number' column representing the month for each date\n"
   ]
  },
  {
   "cell_type": "code",
   "execution_count": 20,
   "id": "966554b3-fb65-4819-a20b-7ab5d429a92d",
   "metadata": {},
   "outputs": [
    {
     "name": "stdout",
     "output_type": "stream",
     "text": [
      "  Type  Price  Volume  day_number          adjusted_time       date  \\\n",
      "0  bid      1       6           2 0 days 00:00:00.279000 2025-01-02   \n",
      "1  ask    798       1           2 0 days 00:00:01.643000 2025-01-02   \n",
      "2  bid    261       1           2 0 days 00:00:01.736000 2025-01-02   \n",
      "3  bid    261       1           2 0 days 00:00:01.984000 2025-01-02   \n",
      "4  ask    797       1           2 0 days 00:00:01.984000 2025-01-02   \n",
      "\n",
      "   month_number  adjusted_time_seconds  \n",
      "0             1                  0.279  \n",
      "1             1                  1.643  \n",
      "2             1                  1.736  \n",
      "3             1                  1.984  \n",
      "4             1                  1.984  \n"
     ]
    }
   ],
   "source": [
    "# Assuming your DataFrame is named combined_df\n",
    "# Display the first few rows of the DataFrame\n",
    "print(combined_df.head())\n"
   ]
  },
  {
   "cell_type": "code",
   "execution_count": 13,
   "id": "90a3844e-e2ff-4de3-9321-f48c837bd7b9",
   "metadata": {},
   "outputs": [],
   "source": [
    "# Assuming your DataFrame is named combined_df\n",
    "combined_df.drop('new_day_start', axis=1, inplace=True)\n"
   ]
  },
  {
   "cell_type": "code",
   "execution_count": 19,
   "id": "143f134f-8495-4ff7-9a53-2c3055d138dd",
   "metadata": {},
   "outputs": [],
   "source": [
    "# Assuming your DataFrame is named combined_df\n",
    "# Convert 'adjusted_time' to timedelta\n",
    "combined_df['adjusted_time'] = pd.to_timedelta(combined_df['adjusted_time'])\n",
    "\n",
    "# Now convert 'adjusted_time' to seconds and store in a new column\n",
    "combined_df['adjusted_time_seconds'] = combined_df['adjusted_time'].dt.total_seconds()\n"
   ]
  },
  {
   "cell_type": "code",
   "execution_count": 21,
   "id": "b6757dda-28b3-44df-b185-ccf0cdeb1bed",
   "metadata": {},
   "outputs": [],
   "source": [
    "# Assuming your DataFrame is named combined_df\n",
    "# Use pd.get_dummies to convert 'Type' into dummy/indicator variables\n",
    "type_dummies = pd.get_dummies(combined_df['Type'], prefix='Type')\n",
    "\n",
    "# Concatenate the new columns with the original DataFrame\n",
    "combined_df = pd.concat([combined_df, type_dummies], axis=1)\n",
    "\n",
    "# Now drop the original 'Type' column as it's been one-hot encoded\n",
    "combined_df.drop('Type', axis=1, inplace=True)\n"
   ]
  },
  {
   "cell_type": "code",
   "execution_count": 22,
   "id": "a321d7bd-06ce-491e-a425-9f7f12973501",
   "metadata": {},
   "outputs": [
    {
     "name": "stdout",
     "output_type": "stream",
     "text": [
      "   Price  Volume  day_number          adjusted_time       date  month_number  \\\n",
      "0      1       6           2 0 days 00:00:00.279000 2025-01-02             1   \n",
      "1    798       1           2 0 days 00:00:01.643000 2025-01-02             1   \n",
      "2    261       1           2 0 days 00:00:01.736000 2025-01-02             1   \n",
      "3    261       1           2 0 days 00:00:01.984000 2025-01-02             1   \n",
      "4    797       1           2 0 days 00:00:01.984000 2025-01-02             1   \n",
      "\n",
      "   adjusted_time_seconds  Type_ask  Type_bid  \n",
      "0                  0.279     False      True  \n",
      "1                  1.643      True     False  \n",
      "2                  1.736     False      True  \n",
      "3                  1.984     False      True  \n",
      "4                  1.984      True     False  \n"
     ]
    }
   ],
   "source": [
    "print(combined_df.head())"
   ]
  },
  {
   "cell_type": "code",
   "execution_count": 23,
   "id": "604db3ac-c84f-49fd-85bf-2787cd0a1124",
   "metadata": {},
   "outputs": [
    {
     "name": "stdout",
     "output_type": "stream",
     "text": [
      "      Price    Volume  day_number          adjusted_time       date  \\\n",
      "0 -2.523188  0.758467           2 0 days 00:00:00.279000 2025-01-02   \n",
      "1  6.631371 -0.868996           2 0 days 00:00:01.643000 2025-01-02   \n",
      "2  0.463243 -0.868996           2 0 days 00:00:01.736000 2025-01-02   \n",
      "3  0.463243 -0.868996           2 0 days 00:00:01.984000 2025-01-02   \n",
      "4  6.619885 -0.868996           2 0 days 00:00:01.984000 2025-01-02   \n",
      "\n",
      "   month_number  adjusted_time_seconds  Type_ask  Type_bid  \n",
      "0             1              -1.732015     False      True  \n",
      "1             1              -1.732014      True     False  \n",
      "2             1              -1.732014     False      True  \n",
      "3             1              -1.732014     False      True  \n",
      "4             1              -1.732014      True     False  \n"
     ]
    }
   ],
   "source": [
    "from sklearn.preprocessing import StandardScaler\n",
    "\n",
    "# Assuming your DataFrame is named combined_df\n",
    "# Select columns to be scaled\n",
    "features_to_scale = ['Price', 'Volume', 'adjusted_time_seconds']\n",
    "\n",
    "# Initialize the standard scaler\n",
    "scaler = StandardScaler()\n",
    "\n",
    "# Scale the features and replace in the dataframe\n",
    "combined_df[features_to_scale] = scaler.fit_transform(combined_df[features_to_scale])\n",
    "\n",
    "# View the first few rows of the DataFrame to check the scaled data\n",
    "print(combined_df.head())\n"
   ]
  },
  {
   "cell_type": "code",
   "execution_count": 24,
   "id": "c58acbaa-d756-420b-ae77-2bc8ead2b18d",
   "metadata": {},
   "outputs": [
    {
     "name": "stdout",
     "output_type": "stream",
     "text": [
      "      Price    Volume  day_number          adjusted_time       date  \\\n",
      "0  0.000000  0.087719           2 0 days 00:00:00.279000 2025-01-02   \n",
      "1  0.997497  0.000000           2 0 days 00:00:01.643000 2025-01-02   \n",
      "2  0.325407  0.000000           2 0 days 00:00:01.736000 2025-01-02   \n",
      "3  0.325407  0.000000           2 0 days 00:00:01.984000 2025-01-02   \n",
      "4  0.996245  0.000000           2 0 days 00:00:01.984000 2025-01-02   \n",
      "\n",
      "   month_number  adjusted_time_seconds  Type_ask  Type_bid  \n",
      "0             1           0.000000e+00     False      True  \n",
      "1             1           3.566013e-07      True     False  \n",
      "2             1           3.809151e-07     False      True  \n",
      "3             1           4.457517e-07     False      True  \n",
      "4             1           4.457517e-07      True     False  \n"
     ]
    }
   ],
   "source": [
    "from sklearn.preprocessing import MinMaxScaler\n",
    "\n",
    "# Assuming your DataFrame is named combined_df\n",
    "# Select columns to be scaled\n",
    "features_to_scale = ['Price', 'Volume', 'adjusted_time_seconds']\n",
    "\n",
    "# Initialize the MinMaxScaler\n",
    "scaler = MinMaxScaler()\n",
    "\n",
    "# Scale the features and replace in the dataframe\n",
    "combined_df[features_to_scale] = scaler.fit_transform(combined_df[features_to_scale])\n",
    "\n",
    "# View the first few rows of the DataFrame to check the scaled data\n",
    "print(combined_df.head())\n"
   ]
  },
  {
   "cell_type": "markdown",
   "id": "a12109e2-e4d1-428d-ba91-cd68cc5f3e1a",
   "metadata": {},
   "source": [
    "Price: Scaled so that the prices have a consistent range or distribution, which helps the model learn effectively.\n",
    "Volume: Also scaled for the same reasons as price. Neural networks often perform better when the input features are on a similar scale.\n",
    "adjusted_time_seconds: Time values have been scaled to a similar range as the other features."
   ]
  },
  {
   "cell_type": "code",
   "execution_count": 25,
   "id": "e3265f76-2d89-4187-a4ed-735382b2e642",
   "metadata": {},
   "outputs": [
    {
     "name": "stdout",
     "output_type": "stream",
     "text": [
      "Sequence shape: (15297451, 5, 3)\n",
      "Target shape: (15297451, 3)\n"
     ]
    }
   ],
   "source": [
    "import numpy as np\n",
    "\n",
    "def create_sequences(data, seq_length):\n",
    "    xs = []\n",
    "    ys = []\n",
    "    \n",
    "    for i in range(len(data)-seq_length):\n",
    "        x = data[i:(i+seq_length)]\n",
    "        y = data[i+seq_length]\n",
    "        xs.append(x)\n",
    "        ys.append(y)\n",
    "        \n",
    "    return np.array(xs), np.array(ys)\n",
    "\n",
    "# Select features to be used in the sequence creation\n",
    "# This should exclude one-hot encoded 'Type' columns if you want to predict 'Price'\n",
    "# You would include them if they are relevant for predictions\n",
    "features = ['Price', 'Volume', 'adjusted_time_seconds']\n",
    "\n",
    "# Number of previous time steps to use for predicting the next time step\n",
    "sequence_length = 5\n",
    "\n",
    "# Create sequences\n",
    "X, y = create_sequences(combined_df[features].values, sequence_length)\n",
    "\n",
    "# Information about the sequences\n",
    "print(f\"Sequence shape: {X.shape}\")\n",
    "print(f\"Target shape: {y.shape}\")\n"
   ]
  },
  {
   "cell_type": "code",
   "execution_count": 26,
   "id": "dff08329-b490-42c8-9826-e6ae84d5add8",
   "metadata": {},
   "outputs": [
    {
     "name": "stdout",
     "output_type": "stream",
     "text": [
      "Train set shape: (11014164, 5, 3)\n",
      "Validation set shape: (1223796, 5, 3)\n",
      "Test set shape: (3059491, 5, 3)\n"
     ]
    }
   ],
   "source": [
    "# Assuming you've already created X and y\n",
    "\n",
    "# Define the split point, for example, 80% training and 20% testing\n",
    "split_point = int(len(X) * 0.8)\n",
    "\n",
    "# Split the data into training and test sets\n",
    "X_train, X_test = X[:split_point], X[split_point:]\n",
    "y_train, y_test = y[:split_point], y[split_point:]\n",
    "\n",
    "# It's also a good idea to have a validation set to tune the hyperparameters\n",
    "# For simplicity, we'll take the last part of the training set as the validation set\n",
    "validation_split_point = int(len(X_train) * 0.9)\n",
    "X_train, X_val = X_train[:validation_split_point], X_train[validation_split_point:]\n",
    "y_train, y_val = y_train[:validation_split_point], y_train[validation_split_point:]\n",
    "\n",
    "# Output the shape of the splits\n",
    "print(f'Train set shape: {X_train.shape}')\n",
    "print(f'Validation set shape: {X_val.shape}')\n",
    "print(f'Test set shape: {X_test.shape}')\n"
   ]
  },
  {
   "cell_type": "code",
   "execution_count": 27,
   "id": "eb649c89-c248-473a-818b-fac710270563",
   "metadata": {},
   "outputs": [
    {
     "name": "stderr",
     "output_type": "stream",
     "text": [
      "/Users/tanmaysagarhuria/anaconda3/lib/python3.11/site-packages/keras/src/layers/rnn/rnn.py:204: UserWarning: Do not pass an `input_shape`/`input_dim` argument to a layer. When using Sequential models, prefer using an `Input(shape)` object as the first layer in the model instead.\n",
      "  super().__init__(**kwargs)\n"
     ]
    },
    {
     "data": {
      "text/html": [
       "<pre style=\"white-space:pre;overflow-x:auto;line-height:normal;font-family:Menlo,'DejaVu Sans Mono',consolas,'Courier New',monospace\"><span style=\"font-weight: bold\">Model: \"sequential\"</span>\n",
       "</pre>\n"
      ],
      "text/plain": [
       "\u001b[1mModel: \"sequential\"\u001b[0m\n"
      ]
     },
     "metadata": {},
     "output_type": "display_data"
    },
    {
     "data": {
      "text/html": [
       "<pre style=\"white-space:pre;overflow-x:auto;line-height:normal;font-family:Menlo,'DejaVu Sans Mono',consolas,'Courier New',monospace\">┏━━━━━━━━━━━━━━━━━━━━━━━━━━━━━━━━━┳━━━━━━━━━━━━━━━━━━━━━━━━┳━━━━━━━━━━━━━━━┓\n",
       "┃<span style=\"font-weight: bold\"> Layer (type)                    </span>┃<span style=\"font-weight: bold\"> Output Shape           </span>┃<span style=\"font-weight: bold\">       Param # </span>┃\n",
       "┡━━━━━━━━━━━━━━━━━━━━━━━━━━━━━━━━━╇━━━━━━━━━━━━━━━━━━━━━━━━╇━━━━━━━━━━━━━━━┩\n",
       "│ lstm (<span style=\"color: #0087ff; text-decoration-color: #0087ff\">LSTM</span>)                     │ (<span style=\"color: #00d7ff; text-decoration-color: #00d7ff\">None</span>, <span style=\"color: #00af00; text-decoration-color: #00af00\">5</span>, <span style=\"color: #00af00; text-decoration-color: #00af00\">50</span>)          │        <span style=\"color: #00af00; text-decoration-color: #00af00\">10,800</span> │\n",
       "├─────────────────────────────────┼────────────────────────┼───────────────┤\n",
       "│ lstm_1 (<span style=\"color: #0087ff; text-decoration-color: #0087ff\">LSTM</span>)                   │ (<span style=\"color: #00d7ff; text-decoration-color: #00d7ff\">None</span>, <span style=\"color: #00af00; text-decoration-color: #00af00\">50</span>)             │        <span style=\"color: #00af00; text-decoration-color: #00af00\">20,200</span> │\n",
       "├─────────────────────────────────┼────────────────────────┼───────────────┤\n",
       "│ dense (<span style=\"color: #0087ff; text-decoration-color: #0087ff\">Dense</span>)                   │ (<span style=\"color: #00d7ff; text-decoration-color: #00d7ff\">None</span>, <span style=\"color: #00af00; text-decoration-color: #00af00\">3</span>)              │           <span style=\"color: #00af00; text-decoration-color: #00af00\">153</span> │\n",
       "└─────────────────────────────────┴────────────────────────┴───────────────┘\n",
       "</pre>\n"
      ],
      "text/plain": [
       "┏━━━━━━━━━━━━━━━━━━━━━━━━━━━━━━━━━┳━━━━━━━━━━━━━━━━━━━━━━━━┳━━━━━━━━━━━━━━━┓\n",
       "┃\u001b[1m \u001b[0m\u001b[1mLayer (type)                   \u001b[0m\u001b[1m \u001b[0m┃\u001b[1m \u001b[0m\u001b[1mOutput Shape          \u001b[0m\u001b[1m \u001b[0m┃\u001b[1m \u001b[0m\u001b[1m      Param #\u001b[0m\u001b[1m \u001b[0m┃\n",
       "┡━━━━━━━━━━━━━━━━━━━━━━━━━━━━━━━━━╇━━━━━━━━━━━━━━━━━━━━━━━━╇━━━━━━━━━━━━━━━┩\n",
       "│ lstm (\u001b[38;5;33mLSTM\u001b[0m)                     │ (\u001b[38;5;45mNone\u001b[0m, \u001b[38;5;34m5\u001b[0m, \u001b[38;5;34m50\u001b[0m)          │        \u001b[38;5;34m10,800\u001b[0m │\n",
       "├─────────────────────────────────┼────────────────────────┼───────────────┤\n",
       "│ lstm_1 (\u001b[38;5;33mLSTM\u001b[0m)                   │ (\u001b[38;5;45mNone\u001b[0m, \u001b[38;5;34m50\u001b[0m)             │        \u001b[38;5;34m20,200\u001b[0m │\n",
       "├─────────────────────────────────┼────────────────────────┼───────────────┤\n",
       "│ dense (\u001b[38;5;33mDense\u001b[0m)                   │ (\u001b[38;5;45mNone\u001b[0m, \u001b[38;5;34m3\u001b[0m)              │           \u001b[38;5;34m153\u001b[0m │\n",
       "└─────────────────────────────────┴────────────────────────┴───────────────┘\n"
      ]
     },
     "metadata": {},
     "output_type": "display_data"
    },
    {
     "data": {
      "text/html": [
       "<pre style=\"white-space:pre;overflow-x:auto;line-height:normal;font-family:Menlo,'DejaVu Sans Mono',consolas,'Courier New',monospace\"><span style=\"font-weight: bold\"> Total params: </span><span style=\"color: #00af00; text-decoration-color: #00af00\">31,153</span> (121.69 KB)\n",
       "</pre>\n"
      ],
      "text/plain": [
       "\u001b[1m Total params: \u001b[0m\u001b[38;5;34m31,153\u001b[0m (121.69 KB)\n"
      ]
     },
     "metadata": {},
     "output_type": "display_data"
    },
    {
     "data": {
      "text/html": [
       "<pre style=\"white-space:pre;overflow-x:auto;line-height:normal;font-family:Menlo,'DejaVu Sans Mono',consolas,'Courier New',monospace\"><span style=\"font-weight: bold\"> Trainable params: </span><span style=\"color: #00af00; text-decoration-color: #00af00\">31,153</span> (121.69 KB)\n",
       "</pre>\n"
      ],
      "text/plain": [
       "\u001b[1m Trainable params: \u001b[0m\u001b[38;5;34m31,153\u001b[0m (121.69 KB)\n"
      ]
     },
     "metadata": {},
     "output_type": "display_data"
    },
    {
     "data": {
      "text/html": [
       "<pre style=\"white-space:pre;overflow-x:auto;line-height:normal;font-family:Menlo,'DejaVu Sans Mono',consolas,'Courier New',monospace\"><span style=\"font-weight: bold\"> Non-trainable params: </span><span style=\"color: #00af00; text-decoration-color: #00af00\">0</span> (0.00 B)\n",
       "</pre>\n"
      ],
      "text/plain": [
       "\u001b[1m Non-trainable params: \u001b[0m\u001b[38;5;34m0\u001b[0m (0.00 B)\n"
      ]
     },
     "metadata": {},
     "output_type": "display_data"
    }
   ],
   "source": [
    "from keras.models import Sequential\n",
    "from keras.layers import LSTM, Dense\n",
    "\n",
    "# Assuming you have already imported Sequential and LSTM\n",
    "\n",
    "# Define the LSTM model architecture\n",
    "model = Sequential()\n",
    "model.add(LSTM(50, activation='relu', return_sequences=True, input_shape=(X_train.shape[1], X_train.shape[2])))\n",
    "model.add(LSTM(50, activation='relu'))\n",
    "model.add(Dense(y_train.shape[1]))\n",
    "\n",
    "# Compile the model\n",
    "model.compile(optimizer='adam', loss='mse')\n",
    "\n",
    "# Model summary\n",
    "model.summary()\n"
   ]
  },
  {
   "cell_type": "code",
   "execution_count": 30,
   "id": "d1871c75-fe75-42ca-855c-f184f608ac83",
   "metadata": {},
   "outputs": [
    {
     "name": "stdout",
     "output_type": "stream",
     "text": [
      "Epoch 1/50\n",
      "\u001b[1m172097/172097\u001b[0m \u001b[32m━━━━━━━━━━━━━━━━━━━━\u001b[0m\u001b[37m\u001b[0m \u001b[1m347s\u001b[0m 2ms/step - loss: 9.5125e-04 - val_loss: 0.0024 - learning_rate: 0.0010\n",
      "Epoch 2/50\n",
      "\u001b[1m172097/172097\u001b[0m \u001b[32m━━━━━━━━━━━━━━━━━━━━\u001b[0m\u001b[37m\u001b[0m \u001b[1m350s\u001b[0m 2ms/step - loss: 0.0010 - val_loss: 0.0024 - learning_rate: 0.0010\n",
      "Epoch 3/50\n",
      "\u001b[1m172097/172097\u001b[0m \u001b[32m━━━━━━━━━━━━━━━━━━━━\u001b[0m\u001b[37m\u001b[0m \u001b[1m351s\u001b[0m 2ms/step - loss: 0.0010 - val_loss: 0.0024 - learning_rate: 0.0010\n",
      "Epoch 4/50\n",
      "\u001b[1m172097/172097\u001b[0m \u001b[32m━━━━━━━━━━━━━━━━━━━━\u001b[0m\u001b[37m\u001b[0m \u001b[1m351s\u001b[0m 2ms/step - loss: 0.0010 - val_loss: 0.0024 - learning_rate: 0.0010\n",
      "Epoch 5/50\n",
      "\u001b[1m172097/172097\u001b[0m \u001b[32m━━━━━━━━━━━━━━━━━━━━\u001b[0m\u001b[37m\u001b[0m \u001b[1m354s\u001b[0m 2ms/step - loss: 0.0010 - val_loss: 0.0024 - learning_rate: 0.0010\n",
      "Epoch 6/50\n",
      "\u001b[1m172097/172097\u001b[0m \u001b[32m━━━━━━━━━━━━━━━━━━━━\u001b[0m\u001b[37m\u001b[0m \u001b[1m354s\u001b[0m 2ms/step - loss: 0.0010 - val_loss: 0.0024 - learning_rate: 0.0010\n",
      "Epoch 7/50\n",
      "\u001b[1m172097/172097\u001b[0m \u001b[32m━━━━━━━━━━━━━━━━━━━━\u001b[0m\u001b[37m\u001b[0m \u001b[1m356s\u001b[0m 2ms/step - loss: 0.0010 - val_loss: 0.0024 - learning_rate: 0.0010\n",
      "Epoch 8/50\n",
      "\u001b[1m172097/172097\u001b[0m \u001b[32m━━━━━━━━━━━━━━━━━━━━\u001b[0m\u001b[37m\u001b[0m \u001b[1m347s\u001b[0m 2ms/step - loss: 0.0010 - val_loss: 0.0024 - learning_rate: 0.0010\n",
      "Epoch 9/50\n",
      "\u001b[1m172097/172097\u001b[0m \u001b[32m━━━━━━━━━━━━━━━━━━━━\u001b[0m\u001b[37m\u001b[0m \u001b[1m359s\u001b[0m 2ms/step - loss: 0.0010 - val_loss: 0.0025 - learning_rate: 0.0010\n",
      "Epoch 10/50\n",
      "\u001b[1m172097/172097\u001b[0m \u001b[32m━━━━━━━━━━━━━━━━━━━━\u001b[0m\u001b[37m\u001b[0m \u001b[1m357s\u001b[0m 2ms/step - loss: 0.0010 - val_loss: 0.0025 - learning_rate: 0.0010\n",
      "Epoch 11/50\n",
      "\u001b[1m172097/172097\u001b[0m \u001b[32m━━━━━━━━━━━━━━━━━━━━\u001b[0m\u001b[37m\u001b[0m \u001b[1m356s\u001b[0m 2ms/step - loss: 0.0010 - val_loss: 0.0025 - learning_rate: 0.0010\n",
      "Epoch 11: early stopping\n",
      "Restoring model weights from the end of the best epoch: 1.\n"
     ]
    }
   ],
   "source": [
    "from keras.callbacks import EarlyStopping, ReduceLROnPlateau\n",
    "\n",
    "# Define the model with a simpler architecture\n",
    "model = Sequential()\n",
    "model.add(LSTM(32, activation='relu', return_sequences=True, input_shape=(X_train.shape[1], X_train.shape[2])))\n",
    "model.add(LSTM(32, activation='relu'))\n",
    "model.add(Dense(y_train.shape[1]))\n",
    "\n",
    "# Compile the model with a potentially larger batch size\n",
    "model.compile(optimizer='adam', loss='mse')\n",
    "\n",
    "# Early stopping callback\n",
    "early_stopping = EarlyStopping(monitor='val_loss', patience=10, verbose=1, mode='min', restore_best_weights=True)\n",
    "\n",
    "# Reduce learning rate when a metric has stopped improving\n",
    "reduce_lr = ReduceLROnPlateau(monitor='val_loss', factor=0.2, patience=5, min_lr=0.001, mode='min', verbose=1)\n",
    "\n",
    "# Fit the model with the new callbacks\n",
    "history = model.fit(\n",
    "    X_train, y_train,\n",
    "    epochs=50,\n",
    "    batch_size=64, # Increase if your hardware can handle it\n",
    "    validation_data=(X_val, y_val),\n",
    "    verbose=1,\n",
    "    shuffle=False,\n",
    "    callbacks=[early_stopping, reduce_lr]\n",
    ")\n",
    "\n"
   ]
  },
  {
   "cell_type": "code",
   "execution_count": 31,
   "id": "30e7b2fb-aeed-4dc0-9e98-8f99944458c0",
   "metadata": {},
   "outputs": [
    {
     "name": "stdout",
     "output_type": "stream",
     "text": [
      "\u001b[1m95610/95610\u001b[0m \u001b[32m━━━━━━━━━━━━━━━━━━━━\u001b[0m\u001b[37m\u001b[0m \u001b[1m49s\u001b[0m 516us/step\n",
      "Test MSE: 0.01397332192651868\n",
      "Test RMSE: 0.11820880646770222\n"
     ]
    },
    {
     "data": {
      "image/png": "[encoded data removed]",
      "text/plain": [
       "<Figure size 1500x500 with 1 Axes>"
      ]
     },
     "metadata": {},
     "output_type": "display_data"
    }
   ],
   "source": [
    "from sklearn.metrics import mean_squared_error\n",
    "import matplotlib.pyplot as plt\n",
    "\n",
    "# Make predictions\n",
    "predicted = model.predict(X_test)\n",
    "\n",
    "# The output of the model is scaled, so you may need to inverse the scaling to compare it with the original data\n",
    "# If you used a scaler and need to inverse the scaling, you would do it here\n",
    "# predicted = scaler.inverse_transform(predicted)\n",
    "\n",
    "# Calculate the mean squared error for the test set\n",
    "mse = mean_squared_error(y_test, predicted)\n",
    "print(f'Test MSE: {mse}')\n",
    "\n",
    "# Calculate root mean squared error as well\n",
    "rmse = np.sqrt(mse)\n",
    "print(f'Test RMSE: {rmse}')\n",
    "\n",
    "# Optionally, plot some predictions against the true values\n",
    "plt.figure(figsize=(15, 5))\n",
    "plt.plot(predicted[:100], label='Predicted')\n",
    "plt.plot(y_test[:100], label='Actual')\n",
    "plt.title('LSTM Predictions vs Actual Data')\n",
    "plt.xlabel('Sample Index')\n",
    "plt.ylabel('Scaled Value')\n",
    "plt.legend()\n",
    "plt.show()\n"
   ]
  },
  {
   "cell_type": "code",
   "execution_count": 32,
   "id": "2c5c2109-4f0d-405b-b75f-4f1b29775e4b",
   "metadata": {},
   "outputs": [
    {
     "name": "stdout",
     "output_type": "stream",
     "text": [
      "Test MAE: 0.08437691872452406\n",
      "Test MSE: 0.01397332192651868\n",
      "Test RMSE: 0.11820880646770222\n"
     ]
    }
   ],
   "source": [
    "from sklearn.metrics import mean_absolute_error\n",
    "\n",
    "# Assuming 'predicted' is your predicted values and 'y_test' are the actual values\n",
    "\n",
    "# Calculate Mean Absolute Error\n",
    "mae = mean_absolute_error(y_test, predicted)\n",
    "print(f'Test MAE: {mae}')\n",
    "\n",
    "# You have already calculated MSE and RMSE previously\n",
    "mse = mean_squared_error(y_test, predicted)\n",
    "rmse = np.sqrt(mse)\n",
    "\n",
    "# Print out all three metrics\n",
    "print(f'Test MSE: {mse}')\n",
    "print(f'Test RMSE: {rmse}')\n"
   ]
  },
  {
   "cell_type": "code",
   "execution_count": 34,
   "id": "f60ffe4c-2326-4483-a0a5-83c30c4faf9f",
   "metadata": {},
   "outputs": [
    {
     "name": "stdout",
     "output_type": "stream",
     "text": [
      "Profitability of the model: 108.33333333333348\n"
     ]
    }
   ],
   "source": [
    "def simulate_trading(predictions, actuals, threshold=0.01):\n",
    "    capital = 1000  # Starting capital, for example $1000\n",
    "    num_shares = 0\n",
    "    \n",
    "    # Assume we buy if the predicted increase is above a threshold, sell if below negative threshold\n",
    "    for predicted, actual in zip(predictions, actuals):\n",
    "        if predicted > threshold:  # Predicted a significant increase\n",
    "            if capital > 0:\n",
    "                num_shares = capital / actual  # Buy as many shares as possible\n",
    "                capital = 0  # Invest all capital\n",
    "        elif predicted < -threshold:  # Predicted a significant decrease\n",
    "            if num_shares > 0:\n",
    "                capital = num_shares * actual  # Sell all shares\n",
    "                num_shares = 0\n",
    "    \n",
    "    # Final capital: value of remaining shares + cash\n",
    "    final_capital = num_shares * actuals[-1] + capital\n",
    "    return final_capital - 1000  # Profit or loss\n",
    "\n",
    "# Dummy prediction values for illustration; replace with your actual predictions\n",
    "predicted = [0.02, -0.03, 0.05, -0.04, 0.03, 0.02]\n",
    "# Dummy actual values for illustration; replace with your actual y_test values\n",
    "y_test = [100, 105, 100, 95, 90, 100]\n",
    "\n",
    "# Run the simulation\n",
    "profitability = simulate_trading(predicted, y_test)\n",
    "print(f\"Profitability of the model: {profitability}\")\n",
    "\n"
   ]
  },
  {
   "cell_type": "code",
   "execution_count": null,
   "id": "50265ae9-94bd-460c-998b-4a613e72cab5",
   "metadata": {},
   "outputs": [],
   "source": []
  }
 ],
 "metadata": {
  "kernelspec": {
   "display_name": "Python 3 (ipykernel)",
   "language": "python",
   "name": "python3"
  },
  "language_info": {
   "codemirror_mode": {
    "name": "ipython",
    "version": 3
   },
   "file_extension": ".py",
   "mimetype": "text/x-python",
   "name": "python",
   "nbconvert_exporter": "python",
   "pygments_lexer": "ipython3",
   "version": "3.11.4"
  }
 },
 "nbformat": 4,
 "nbformat_minor": 5
}
