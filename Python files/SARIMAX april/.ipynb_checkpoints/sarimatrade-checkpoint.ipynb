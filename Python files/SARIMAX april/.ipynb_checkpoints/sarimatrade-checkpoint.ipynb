{
 "cells": [
  {
   "cell_type": "code",
   "execution_count": null,
   "id": "5e10c9c5-1f9c-4d77-bcfe-6491f23fe538",
   "metadata": {},
   "outputs": [],
   "source": [
    "import pandas as pd\n",
    "df = pd.read_csv('your_dataset.csv', index_col='your_index_column')\n",
    "df.index = pd.RangeIndex(start=900, stop=900+len(df), step=1)\n",
    "predicted_prices_ask = pd.read_csv('')\n",
    "predicted_prices_ask = np.array(predicted_labels_ask[:50]).flatten()  \n",
    "predicted_prices_bid = np.array(predicted_labels_bid[:50]).flatten() \n",
    "\n",
    "sma_ask = pd.Series(predicted_prices_ask).rolling(window=10).mean()\n",
    "sma_bid = pd.Series(predicted_prices_bid).rolling(window=10).mean()\n",
    "\n",
    "buy_signals = predicted_prices_ask < sma_ask  \n",
    "sell_signals = predicted_prices_bid > sma_bid  \n",
    "\n",
    "initial_capital = 1000\n",
    "position = 0  # number of positions, assuming no positions at the start\n",
    "transaction_costs = 0.001  \n",
    "\n",
    "for i in range(len(predicted_prices_ask)):\n",
    "    if buy_signals[i] and initial_capital > 0:  \n",
    "        units = initial_capital / predicted_prices_ask[i] \n",
    "        position += units\n",
    "        initial_capital -= units * predicted_prices_ask[i]\n",
    "        initial_capital -= transaction_costs * units * predicted_prices_ask[i]  \n",
    "\n",
    "    if sell_signals[i] and position > 0:  \n",
    "        initial_capital += position * predicted_prices_bid[i]\n",
    "        initial_capital -= transaction_costs * position * predicted_prices_bid[i]  \n",
    "        position = 0  \n",
    "\n",
    "final_capital = initial_capital + position * predicted_prices_bid[-1]  # assuming it all sells out in the end\n",
    "print(f\"Final capital after trading: {final_capital}\")\n",
    "\n",
    "return_rate = ((final_capital - 1000) / 1000) * 100\n",
    "print(f\"Return Rate: {return_rate:.2f}%\")"
   ]
  }
 ],
 "metadata": {
  "kernelspec": {
   "display_name": "Python 3 (ipykernel)",
   "language": "python",
   "name": "python3"
  },
  "language_info": {
   "codemirror_mode": {
    "name": "ipython",
    "version": 3
   },
   "file_extension": ".py",
   "mimetype": "text/x-python",
   "name": "python",
   "nbconvert_exporter": "python",
   "pygments_lexer": "ipython3",
   "version": "3.11.3"
  }
 },
 "nbformat": 4,
 "nbformat_minor": 5
}
