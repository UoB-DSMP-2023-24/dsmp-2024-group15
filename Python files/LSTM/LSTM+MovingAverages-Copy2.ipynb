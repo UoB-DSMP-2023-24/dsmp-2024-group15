{
 "cells": [
  {
   "cell_type": "code",
   "execution_count": 23,
   "id": "initial_id",
   "metadata": {
    "ExecuteTime": {
     "end_time": "2024-05-01T04:33:08.586053Z",
     "start_time": "2024-05-01T04:33:08.584513Z"
    }
   },
   "outputs": [],
   "source": [
    "import pandas as pd\n",
    "file_path_ask = '/Users/gali/Downloads/predictions_with_timestamps_df_asks.csv'"
   ]
  },
  {
   "cell_type": "markdown",
   "id": "2bd2700fc6b8932c",
   "metadata": {},
   "source": [
    "Experiment 4: Moving Average Crossover\n",
    "This strategy involves using short-term and long-term moving averages. A buy signal is typically generated when the short-term moving average crosses above the long-term moving average, indicating a potential upward trend. Conversely, a sell signal is triggered when the short-term moving average crosses below."
   ]
  },
  {
   "cell_type": "code",
   "execution_count": 9,
   "id": "6c93cd45f75653be",
   "metadata": {
    "ExecuteTime": {
     "end_time": "2024-05-01T04:33:22.417325Z",
     "start_time": "2024-05-01T04:33:22.402467Z"
    }
   },
   "outputs": [
    {
     "data": {
      "text/html": [
       "<div>\n",
       "<style scoped>\n",
       "    .dataframe tbody tr th:only-of-type {\n",
       "        vertical-align: middle;\n",
       "    }\n",
       "\n",
       "    .dataframe tbody tr th {\n",
       "        vertical-align: top;\n",
       "    }\n",
       "\n",
       "    .dataframe thead th {\n",
       "        text-align: right;\n",
       "    }\n",
       "</style>\n",
       "<table border=\"1\" class=\"dataframe\">\n",
       "  <thead>\n",
       "    <tr style=\"text-align: right;\">\n",
       "      <th></th>\n",
       "      <th>predicted_mean</th>\n",
       "    </tr>\n",
       "    <tr>\n",
       "      <th>time</th>\n",
       "      <th></th>\n",
       "    </tr>\n",
       "  </thead>\n",
       "  <tbody>\n",
       "    <tr>\n",
       "      <th>2025-02-05 10:00:00</th>\n",
       "      <td>134.958636</td>\n",
       "    </tr>\n",
       "    <tr>\n",
       "      <th>2025-02-05 11:00:00</th>\n",
       "      <td>134.815213</td>\n",
       "    </tr>\n",
       "    <tr>\n",
       "      <th>2025-02-05 12:00:00</th>\n",
       "      <td>135.153222</td>\n",
       "    </tr>\n",
       "    <tr>\n",
       "      <th>2025-02-05 13:00:00</th>\n",
       "      <td>134.345741</td>\n",
       "    </tr>\n",
       "    <tr>\n",
       "      <th>2025-02-05 14:00:00</th>\n",
       "      <td>133.791349</td>\n",
       "    </tr>\n",
       "    <tr>\n",
       "      <th>...</th>\n",
       "      <td>...</td>\n",
       "    </tr>\n",
       "    <tr>\n",
       "      <th>2025-02-14 02:00:00</th>\n",
       "      <td>100.490878</td>\n",
       "    </tr>\n",
       "    <tr>\n",
       "      <th>2025-02-14 03:00:00</th>\n",
       "      <td>99.586305</td>\n",
       "    </tr>\n",
       "    <tr>\n",
       "      <th>2025-02-14 04:00:00</th>\n",
       "      <td>99.180140</td>\n",
       "    </tr>\n",
       "    <tr>\n",
       "      <th>2025-02-14 05:00:00</th>\n",
       "      <td>99.608748</td>\n",
       "    </tr>\n",
       "    <tr>\n",
       "      <th>2025-02-14 06:00:00</th>\n",
       "      <td>99.648836</td>\n",
       "    </tr>\n",
       "  </tbody>\n",
       "</table>\n",
       "<p>213 rows × 1 columns</p>\n",
       "</div>"
      ],
      "text/plain": [
       "                     predicted_mean\n",
       "time                               \n",
       "2025-02-05 10:00:00      134.958636\n",
       "2025-02-05 11:00:00      134.815213\n",
       "2025-02-05 12:00:00      135.153222\n",
       "2025-02-05 13:00:00      134.345741\n",
       "2025-02-05 14:00:00      133.791349\n",
       "...                             ...\n",
       "2025-02-14 02:00:00      100.490878\n",
       "2025-02-14 03:00:00       99.586305\n",
       "2025-02-14 04:00:00       99.180140\n",
       "2025-02-14 05:00:00       99.608748\n",
       "2025-02-14 06:00:00       99.648836\n",
       "\n",
       "[213 rows x 1 columns]"
      ]
     },
     "execution_count": 9,
     "metadata": {},
     "output_type": "execute_result"
    }
   ],
   "source": [
    "# predictions_bid = pd.read_csv(file_path_bid,index_col = 0)\n",
    "# predictions_bid = predictions_bid.rename_axis('time')\n",
    "# predictions_bid"
   ]
  },
  {
   "cell_type": "code",
   "execution_count": 25,
   "id": "e2e32419-54a7-42de-a4a3-b4fd754acc07",
   "metadata": {},
   "outputs": [
    {
     "data": {
      "text/plain": [
       "time\n",
       "0 days 01:00:00    13.551605\n",
       "0 days 01:01:00    76.487035\n",
       "0 days 01:02:00    54.541034\n",
       "0 days 01:03:00    68.610084\n",
       "0 days 01:04:00     9.112756\n",
       "                     ...    \n",
       "6 days 23:35:00    17.662439\n",
       "6 days 23:36:00    36.225998\n",
       "6 days 23:37:00    71.863600\n",
       "6 days 23:38:00    26.286590\n",
       "6 days 23:39:00    63.420080\n",
       "Name: Predicted_Price, Length: 10000, dtype: float64"
      ]
     },
     "execution_count": 25,
     "metadata": {},
     "output_type": "execute_result"
    }
   ],
   "source": [
    "predictions_ask = pd.read_csv(file_path_ask,index_col = 0)\n",
    "predictions_ask = predictions_ask.rename_axis('time')\n",
    "predictions_ask = predictions_ask[:10000]\n",
    "predictions_ask = predictions_ask['Predicted_Price']*100\n",
    "predictions_ask"
   ]
  },
  {
   "cell_type": "code",
   "execution_count": 22,
   "id": "5d1dff43-f7c8-4bd4-b79b-c53b446479fe",
   "metadata": {},
   "outputs": [
    {
     "data": {
      "text/plain": [
       "adjusted_time\n",
       "0 days 00:00:00     258.684211\n",
       "0 days 00:01:00     254.000000\n",
       "0 days 00:02:00     258.000000\n",
       "0 days 00:03:00     259.000000\n",
       "0 days 00:04:00     261.000000\n",
       "                       ...    \n",
       "44 days 06:25:00    112.000000\n",
       "44 days 06:26:00    112.000000\n",
       "44 days 06:27:00    113.000000\n",
       "44 days 06:28:00    113.000000\n",
       "44 days 06:29:00    112.000000\n",
       "Name: Price, Length: 127500, dtype: float64"
      ]
     },
     "execution_count": 22,
     "metadata": {},
     "output_type": "execute_result"
    }
   ],
   "source": [
    "file_path = '/Users/gali/Downloads/filtered_data_mimed0101.csv'\n",
    "actual = pd.read_csv(file_path, index_col = 2)\n",
    "actual = actual['Price']\n",
    "actual"
   ]
  },
  {
   "cell_type": "code",
   "execution_count": 39,
   "id": "0d66102b-12c4-4a0a-bfe3-245ee50b4a30",
   "metadata": {},
   "outputs": [
    {
     "data": {
      "text/html": [
       "<div>\n",
       "<style scoped>\n",
       "    .dataframe tbody tr th:only-of-type {\n",
       "        vertical-align: middle;\n",
       "    }\n",
       "\n",
       "    .dataframe tbody tr th {\n",
       "        vertical-align: top;\n",
       "    }\n",
       "\n",
       "    .dataframe thead th {\n",
       "        text-align: right;\n",
       "    }\n",
       "</style>\n",
       "<table border=\"1\" class=\"dataframe\">\n",
       "  <thead>\n",
       "    <tr style=\"text-align: right;\">\n",
       "      <th></th>\n",
       "      <th>price</th>\n",
       "      <th>Pred_price</th>\n",
       "    </tr>\n",
       "  </thead>\n",
       "  <tbody>\n",
       "    <tr>\n",
       "      <th>0 days 01:00:00</th>\n",
       "      <td>249.125000</td>\n",
       "      <td>13.551605</td>\n",
       "    </tr>\n",
       "    <tr>\n",
       "      <th>0 days 01:00:00</th>\n",
       "      <td>264.000000</td>\n",
       "      <td>13.551605</td>\n",
       "    </tr>\n",
       "    <tr>\n",
       "      <th>0 days 01:01:00</th>\n",
       "      <td>248.428571</td>\n",
       "      <td>76.487035</td>\n",
       "    </tr>\n",
       "    <tr>\n",
       "      <th>0 days 01:01:00</th>\n",
       "      <td>265.000000</td>\n",
       "      <td>76.487035</td>\n",
       "    </tr>\n",
       "    <tr>\n",
       "      <th>0 days 01:02:00</th>\n",
       "      <td>249.000000</td>\n",
       "      <td>54.541034</td>\n",
       "    </tr>\n",
       "    <tr>\n",
       "      <th>...</th>\n",
       "      <td>...</td>\n",
       "      <td>...</td>\n",
       "    </tr>\n",
       "    <tr>\n",
       "      <th>6 days 23:37:00</th>\n",
       "      <td>321.000000</td>\n",
       "      <td>71.863600</td>\n",
       "    </tr>\n",
       "    <tr>\n",
       "      <th>6 days 23:38:00</th>\n",
       "      <td>310.000000</td>\n",
       "      <td>26.286590</td>\n",
       "    </tr>\n",
       "    <tr>\n",
       "      <th>6 days 23:38:00</th>\n",
       "      <td>323.000000</td>\n",
       "      <td>26.286590</td>\n",
       "    </tr>\n",
       "    <tr>\n",
       "      <th>6 days 23:39:00</th>\n",
       "      <td>314.000000</td>\n",
       "      <td>63.420080</td>\n",
       "    </tr>\n",
       "    <tr>\n",
       "      <th>6 days 23:39:00</th>\n",
       "      <td>322.000000</td>\n",
       "      <td>63.420080</td>\n",
       "    </tr>\n",
       "  </tbody>\n",
       "</table>\n",
       "<p>20000 rows × 2 columns</p>\n",
       "</div>"
      ],
      "text/plain": [
       "                      price  Pred_price\n",
       "0 days 01:00:00  249.125000   13.551605\n",
       "0 days 01:00:00  264.000000   13.551605\n",
       "0 days 01:01:00  248.428571   76.487035\n",
       "0 days 01:01:00  265.000000   76.487035\n",
       "0 days 01:02:00  249.000000   54.541034\n",
       "...                     ...         ...\n",
       "6 days 23:37:00  321.000000   71.863600\n",
       "6 days 23:38:00  310.000000   26.286590\n",
       "6 days 23:38:00  323.000000   26.286590\n",
       "6 days 23:39:00  314.000000   63.420080\n",
       "6 days 23:39:00  322.000000   63.420080\n",
       "\n",
       "[20000 rows x 2 columns]"
      ]
     },
     "execution_count": 39,
     "metadata": {},
     "output_type": "execute_result"
    }
   ],
   "source": [
    "predictions_df = pd.merge(actual, predictions_ask, left_index=True, right_index=True, how='inner')\n",
    "\n",
    "predictions_df = predictions_df.dropna()\n",
    "#predictions_df['price'] = predictions_df[['predicted_mean_x', 'predicted_mean_y']].mean(axis=1)\n",
    "predictions_df = predictions_df.rename(columns={'Predicted_Price': 'Pred_price'})\n",
    "predictions_df = predictions_df.rename(columns={'Price': 'price'})\n",
    "predictions_df"
   ]
  },
  {
   "cell_type": "code",
   "execution_count": 19,
   "id": "2076f705-649a-4430-b004-028ea7dcc2c9",
   "metadata": {},
   "outputs": [
    {
     "data": {
      "text/html": [
       "<div>\n",
       "<style scoped>\n",
       "    .dataframe tbody tr th:only-of-type {\n",
       "        vertical-align: middle;\n",
       "    }\n",
       "\n",
       "    .dataframe tbody tr th {\n",
       "        vertical-align: top;\n",
       "    }\n",
       "\n",
       "    .dataframe thead th {\n",
       "        text-align: right;\n",
       "    }\n",
       "</style>\n",
       "<table border=\"1\" class=\"dataframe\">\n",
       "  <thead>\n",
       "    <tr style=\"text-align: right;\">\n",
       "      <th></th>\n",
       "      <th>predicted_mean</th>\n",
       "    </tr>\n",
       "    <tr>\n",
       "      <th>time</th>\n",
       "      <th></th>\n",
       "    </tr>\n",
       "  </thead>\n",
       "  <tbody>\n",
       "    <tr>\n",
       "      <th>2025-02-05 10:00:00</th>\n",
       "      <td>134.958636</td>\n",
       "    </tr>\n",
       "    <tr>\n",
       "      <th>2025-02-05 11:00:00</th>\n",
       "      <td>134.815213</td>\n",
       "    </tr>\n",
       "    <tr>\n",
       "      <th>2025-02-05 12:00:00</th>\n",
       "      <td>135.153222</td>\n",
       "    </tr>\n",
       "    <tr>\n",
       "      <th>2025-02-05 13:00:00</th>\n",
       "      <td>134.345741</td>\n",
       "    </tr>\n",
       "    <tr>\n",
       "      <th>2025-02-05 14:00:00</th>\n",
       "      <td>133.791349</td>\n",
       "    </tr>\n",
       "    <tr>\n",
       "      <th>...</th>\n",
       "      <td>...</td>\n",
       "    </tr>\n",
       "    <tr>\n",
       "      <th>2025-02-14 02:00:00</th>\n",
       "      <td>100.490878</td>\n",
       "    </tr>\n",
       "    <tr>\n",
       "      <th>2025-02-14 03:00:00</th>\n",
       "      <td>99.586305</td>\n",
       "    </tr>\n",
       "    <tr>\n",
       "      <th>2025-02-14 04:00:00</th>\n",
       "      <td>99.180140</td>\n",
       "    </tr>\n",
       "    <tr>\n",
       "      <th>2025-02-14 05:00:00</th>\n",
       "      <td>99.608748</td>\n",
       "    </tr>\n",
       "    <tr>\n",
       "      <th>2025-02-14 06:00:00</th>\n",
       "      <td>99.648836</td>\n",
       "    </tr>\n",
       "  </tbody>\n",
       "</table>\n",
       "<p>213 rows × 1 columns</p>\n",
       "</div>"
      ],
      "text/plain": [
       "                     predicted_mean\n",
       "time                               \n",
       "2025-02-05 10:00:00      134.958636\n",
       "2025-02-05 11:00:00      134.815213\n",
       "2025-02-05 12:00:00      135.153222\n",
       "2025-02-05 13:00:00      134.345741\n",
       "2025-02-05 14:00:00      133.791349\n",
       "...                             ...\n",
       "2025-02-14 02:00:00      100.490878\n",
       "2025-02-14 03:00:00       99.586305\n",
       "2025-02-14 04:00:00       99.180140\n",
       "2025-02-14 05:00:00       99.608748\n",
       "2025-02-14 06:00:00       99.648836\n",
       "\n",
       "[213 rows x 1 columns]"
      ]
     },
     "execution_count": 19,
     "metadata": {},
     "output_type": "execute_result"
    }
   ],
   "source": [
    "file_path_bid = '/Users/gali/Desktop/dsmp-2024-group15/Python files/SARIMAX april/sarima_pred_bid.csv'\n",
    "bid = pd.read_csv(file_path_bid,index_col = 0)\n",
    "bid = bid.rename_axis('time')\n",
    "bid"
   ]
  },
  {
   "cell_type": "code",
   "execution_count": 17,
   "id": "42ffd66e-1b3e-4027-baea-6902be03d6a9",
   "metadata": {},
   "outputs": [
    {
     "data": {
      "text/html": [
       "<div>\n",
       "<style scoped>\n",
       "    .dataframe tbody tr th:only-of-type {\n",
       "        vertical-align: middle;\n",
       "    }\n",
       "\n",
       "    .dataframe tbody tr th {\n",
       "        vertical-align: top;\n",
       "    }\n",
       "\n",
       "    .dataframe thead th {\n",
       "        text-align: right;\n",
       "    }\n",
       "</style>\n",
       "<table border=\"1\" class=\"dataframe\">\n",
       "  <thead>\n",
       "    <tr style=\"text-align: right;\">\n",
       "      <th></th>\n",
       "      <th>predicted_mean</th>\n",
       "    </tr>\n",
       "    <tr>\n",
       "      <th>time</th>\n",
       "      <th></th>\n",
       "    </tr>\n",
       "  </thead>\n",
       "  <tbody>\n",
       "    <tr>\n",
       "      <th>2025-02-05 10:00:00</th>\n",
       "      <td>135.615172</td>\n",
       "    </tr>\n",
       "    <tr>\n",
       "      <th>2025-02-05 11:00:00</th>\n",
       "      <td>135.551537</td>\n",
       "    </tr>\n",
       "    <tr>\n",
       "      <th>2025-02-05 12:00:00</th>\n",
       "      <td>135.296503</td>\n",
       "    </tr>\n",
       "    <tr>\n",
       "      <th>2025-02-05 13:00:00</th>\n",
       "      <td>135.425311</td>\n",
       "    </tr>\n",
       "    <tr>\n",
       "      <th>2025-02-05 14:00:00</th>\n",
       "      <td>135.066030</td>\n",
       "    </tr>\n",
       "    <tr>\n",
       "      <th>...</th>\n",
       "      <td>...</td>\n",
       "    </tr>\n",
       "    <tr>\n",
       "      <th>2025-02-14 02:00:00</th>\n",
       "      <td>95.838347</td>\n",
       "    </tr>\n",
       "    <tr>\n",
       "      <th>2025-02-14 03:00:00</th>\n",
       "      <td>95.365443</td>\n",
       "    </tr>\n",
       "    <tr>\n",
       "      <th>2025-02-14 04:00:00</th>\n",
       "      <td>95.012624</td>\n",
       "    </tr>\n",
       "    <tr>\n",
       "      <th>2025-02-14 05:00:00</th>\n",
       "      <td>95.239355</td>\n",
       "    </tr>\n",
       "    <tr>\n",
       "      <th>2025-02-14 06:00:00</th>\n",
       "      <td>95.320545</td>\n",
       "    </tr>\n",
       "  </tbody>\n",
       "</table>\n",
       "<p>213 rows × 1 columns</p>\n",
       "</div>"
      ],
      "text/plain": [
       "                     predicted_mean\n",
       "time                               \n",
       "2025-02-05 10:00:00      135.615172\n",
       "2025-02-05 11:00:00      135.551537\n",
       "2025-02-05 12:00:00      135.296503\n",
       "2025-02-05 13:00:00      135.425311\n",
       "2025-02-05 14:00:00      135.066030\n",
       "...                             ...\n",
       "2025-02-14 02:00:00       95.838347\n",
       "2025-02-14 03:00:00       95.365443\n",
       "2025-02-14 04:00:00       95.012624\n",
       "2025-02-14 05:00:00       95.239355\n",
       "2025-02-14 06:00:00       95.320545\n",
       "\n",
       "[213 rows x 1 columns]"
      ]
     },
     "execution_count": 17,
     "metadata": {},
     "output_type": "execute_result"
    }
   ],
   "source": [
    "file_path_ask = '/Users/gali/Desktop/dsmp-2024-group15/Python files/SARIMAX april/sarima_pred_ask.csv'\n",
    "ask = pd.read_csv(file_path_ask,index_col = 0)\n",
    "ask = ask.rename_axis('time')\n",
    "ask"
   ]
  },
  {
   "cell_type": "code",
   "execution_count": null,
   "id": "0d527d8a-594f-4c2b-909f-8123ce310dc7",
   "metadata": {},
   "outputs": [],
   "source": [
    "actual = pd.merge(bid, ask, left_index=True, right_index=True, how='inner')\n",
    "\n",
    "actual = actual.dropna()\n",
    "actual['price'] = actual[['predicted_mean_x', 'predicted_mean_y']].mean(axis=1)\n"
   ]
  },
  {
   "cell_type": "code",
   "execution_count": 21,
   "id": "dd58e6c5-909d-4a75-b429-7f34b4f21044",
   "metadata": {},
   "outputs": [
    {
     "data": {
      "text/html": [
       "<div>\n",
       "<style scoped>\n",
       "    .dataframe tbody tr th:only-of-type {\n",
       "        vertical-align: middle;\n",
       "    }\n",
       "\n",
       "    .dataframe tbody tr th {\n",
       "        vertical-align: top;\n",
       "    }\n",
       "\n",
       "    .dataframe thead th {\n",
       "        text-align: right;\n",
       "    }\n",
       "</style>\n",
       "<table border=\"1\" class=\"dataframe\">\n",
       "  <thead>\n",
       "    <tr style=\"text-align: right;\">\n",
       "      <th></th>\n",
       "      <th>Pred_price</th>\n",
       "      <th>price</th>\n",
       "    </tr>\n",
       "    <tr>\n",
       "      <th>time</th>\n",
       "      <th></th>\n",
       "      <th></th>\n",
       "    </tr>\n",
       "  </thead>\n",
       "  <tbody>\n",
       "    <tr>\n",
       "      <th>2025-02-05 10:00:00</th>\n",
       "      <td>135.286904</td>\n",
       "      <td>135.286904</td>\n",
       "    </tr>\n",
       "    <tr>\n",
       "      <th>2025-02-05 11:00:00</th>\n",
       "      <td>135.183375</td>\n",
       "      <td>135.183375</td>\n",
       "    </tr>\n",
       "    <tr>\n",
       "      <th>2025-02-05 12:00:00</th>\n",
       "      <td>135.224863</td>\n",
       "      <td>135.224863</td>\n",
       "    </tr>\n",
       "    <tr>\n",
       "      <th>2025-02-05 13:00:00</th>\n",
       "      <td>134.885526</td>\n",
       "      <td>134.885526</td>\n",
       "    </tr>\n",
       "    <tr>\n",
       "      <th>2025-02-05 14:00:00</th>\n",
       "      <td>134.428689</td>\n",
       "      <td>134.428689</td>\n",
       "    </tr>\n",
       "    <tr>\n",
       "      <th>...</th>\n",
       "      <td>...</td>\n",
       "      <td>...</td>\n",
       "    </tr>\n",
       "    <tr>\n",
       "      <th>2025-02-14 02:00:00</th>\n",
       "      <td>98.164613</td>\n",
       "      <td>98.164613</td>\n",
       "    </tr>\n",
       "    <tr>\n",
       "      <th>2025-02-14 03:00:00</th>\n",
       "      <td>97.475874</td>\n",
       "      <td>97.475874</td>\n",
       "    </tr>\n",
       "    <tr>\n",
       "      <th>2025-02-14 04:00:00</th>\n",
       "      <td>97.096382</td>\n",
       "      <td>97.096382</td>\n",
       "    </tr>\n",
       "    <tr>\n",
       "      <th>2025-02-14 05:00:00</th>\n",
       "      <td>97.424052</td>\n",
       "      <td>97.424052</td>\n",
       "    </tr>\n",
       "    <tr>\n",
       "      <th>2025-02-14 06:00:00</th>\n",
       "      <td>97.484690</td>\n",
       "      <td>97.484690</td>\n",
       "    </tr>\n",
       "  </tbody>\n",
       "</table>\n",
       "<p>213 rows × 2 columns</p>\n",
       "</div>"
      ],
      "text/plain": [
       "                     Pred_price       price\n",
       "time                                       \n",
       "2025-02-05 10:00:00  135.286904  135.286904\n",
       "2025-02-05 11:00:00  135.183375  135.183375\n",
       "2025-02-05 12:00:00  135.224863  135.224863\n",
       "2025-02-05 13:00:00  134.885526  134.885526\n",
       "2025-02-05 14:00:00  134.428689  134.428689\n",
       "...                         ...         ...\n",
       "2025-02-14 02:00:00   98.164613   98.164613\n",
       "2025-02-14 03:00:00   97.475874   97.475874\n",
       "2025-02-14 04:00:00   97.096382   97.096382\n",
       "2025-02-14 05:00:00   97.424052   97.424052\n",
       "2025-02-14 06:00:00   97.484690   97.484690\n",
       "\n",
       "[213 rows x 2 columns]"
      ]
     },
     "execution_count": 21,
     "metadata": {},
     "output_type": "execute_result"
    }
   ],
   "source": [
    "sim = merged_df['price']\n",
    "act = actual['price']\n",
    "predictions_df = pd.merge(sim, act, left_index=True, right_index=True, how='inner')\n",
    "predictions_df = predictions_df.dropna()\n",
    "predictions_df = predictions_df.rename(columns={'price_x': 'Pred_price'})\n",
    "predictions_df = predictions_df.rename(columns={'price_y': 'price'})\n",
    "predictions_df"
   ]
  },
  {
   "cell_type": "code",
   "execution_count": 40,
   "id": "e592c5804f4ba4b4",
   "metadata": {
    "ExecuteTime": {
     "end_time": "2024-05-01T04:33:40.813911Z",
     "start_time": "2024-05-01T04:33:40.806507Z"
    }
   },
   "outputs": [
    {
     "name": "stdout",
     "output_type": "stream",
     "text": [
      "0 days 01:00:00    0\n",
      "0 days 01:00:00    0\n",
      "0 days 01:01:00    0\n",
      "0 days 01:01:00    0\n",
      "0 days 01:02:00    0\n",
      "                  ..\n",
      "6 days 23:37:00   -1\n",
      "6 days 23:38:00   -1\n",
      "6 days 23:38:00   -1\n",
      "6 days 23:39:00   -1\n",
      "6 days 23:39:00   -1\n",
      "Name: Signal, Length: 20000, dtype: int64\n"
     ]
    }
   ],
   "source": [
    "\n",
    "\n",
    "# Calculate moving averages\n",
    "predictions_df['short_ma'] = predictions_df['Pred_price'].rolling(window=5).mean()  # 5-period moving average\n",
    "predictions_df['long_ma'] = predictions_df['Pred_price'].rolling(window=20).mean()  # 20-period moving average\n",
    "\n",
    "# Generate signals\n",
    "predictions_df['Signal'] = 0\n",
    "predictions_df.loc[predictions_df['short_ma'] > predictions_df['long_ma'], 'Signal'] = 1\n",
    "predictions_df.loc[predictions_df['short_ma'] < predictions_df['long_ma'], 'Signal'] = -1\n",
    "print(predictions_df['Signal'])"
   ]
  },
  {
   "cell_type": "code",
   "execution_count": 41,
   "id": "1fdd2623cd9c5b2d",
   "metadata": {
    "ExecuteTime": {
     "end_time": "2024-05-01T04:37:54.213262Z",
     "start_time": "2024-05-01T04:37:53.762754Z"
    }
   },
   "outputs": [],
   "source": [
    "def simulate_trading(df, initial_capital):\n",
    "    cash = initial_capital\n",
    "    holdings = 0\n",
    "    portfolio_values = []\n",
    "\n",
    "    # Assume the price to use for trading is the predicted price\n",
    "    for index, row in df.iterrows():\n",
    "        if row['Signal'] == 1 and cash > 0:  # Buy\n",
    "            holdings = cash / row['price']  # Buy as much as possible\n",
    "            cash = 0\n",
    "        elif row['Signal'] == -1 and holdings > 0:  # Sell\n",
    "            cash = holdings * row['price']\n",
    "            holdings = 0\n",
    "        \n",
    "        # Update portfolio value for each step\n",
    "        portfolio_value = cash + holdings * row['price']\n",
    "        portfolio_values.append(portfolio_value)\n",
    "\n",
    "    df['Portfolio_Value'] = portfolio_values\n",
    "    return df\n",
    "\n",
    "# Starting capital for the simulation\n",
    "initial_capital = 10000  # Adjust as necessary\n",
    "\n",
    "# Run the trading simulation\n",
    "predictions_df = simulate_trading(predictions_df, initial_capital)\n"
   ]
  },
  {
   "cell_type": "code",
   "execution_count": 42,
   "id": "9977fd46b8dc7a9c",
   "metadata": {
    "ExecuteTime": {
     "end_time": "2024-05-01T04:38:02.588072Z",
     "start_time": "2024-05-01T04:38:02.585232Z"
    }
   },
   "outputs": [
    {
     "name": "stdout",
     "output_type": "stream",
     "text": [
      "Initial Capital: $10000\n",
      "Final Portfolio Value: $7660.43\n",
      "Profit or Loss: $-2339.57\n"
     ]
    }
   ],
   "source": [
    "def calculate_profit(df, initial_capital):\n",
    "    final_portfolio_value = df['Portfolio_Value'].iloc[-1]\n",
    "    profit = final_portfolio_value - initial_capital\n",
    "    return profit\n",
    "\n",
    "# Calculate the profit\n",
    "profit = calculate_profit(predictions_df, initial_capital)\n",
    "print(f\"Initial Capital: ${initial_capital}\")\n",
    "print(f\"Final Portfolio Value: ${predictions_df['Portfolio_Value'].iloc[-1]:.2f}\")\n",
    "print(f\"Profit or Loss: ${profit:.2f}\")\n"
   ]
  },
  {
   "cell_type": "code",
   "execution_count": 43,
   "id": "488a70ab8fc2bee4",
   "metadata": {
    "ExecuteTime": {
     "end_time": "2024-05-01T04:38:43.449564Z",
     "start_time": "2024-05-01T04:38:43.328141Z"
    }
   },
   "outputs": [
    {
     "data": {
      "image/png": "[encoded data removed]",
      "text/plain": [
       "<Figure size 1200x600 with 1 Axes>"
      ]
     },
     "metadata": {},
     "output_type": "display_data"
    }
   ],
   "source": [
    "import matplotlib.pyplot as plt\n",
    "\n",
    "plt.figure(figsize=(12, 6))\n",
    "plt.plot(predictions_df['Portfolio_Value'], label='Portfolio Value')\n",
    "plt.title('Portfolio Value Over Time Using Moving Average Crossover Strategy')\n",
    "plt.xlabel('Timestamp')\n",
    "plt.ylabel('Portfolio Value ($)')\n",
    "plt.legend()\n",
    "plt.grid(True)\n",
    "plt.show()\n"
   ]
  },
  {
   "cell_type": "code",
   "execution_count": null,
   "id": "cc877e360c5637da",
   "metadata": {},
   "outputs": [],
   "source": []
  }
 ],
 "metadata": {
  "kernelspec": {
   "display_name": "Python 3 (ipykernel)",
   "language": "python",
   "name": "python3"
  },
  "language_info": {
   "codemirror_mode": {
    "name": "ipython",
    "version": 3
   },
   "file_extension": ".py",
   "mimetype": "text/x-python",
   "name": "python",
   "nbconvert_exporter": "python",
   "pygments_lexer": "ipython3",
   "version": "3.11.3"
  }
 },
 "nbformat": 4,
 "nbformat_minor": 5
}
