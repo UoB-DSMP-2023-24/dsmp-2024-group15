{
 "cells": [
  {
   "cell_type": "code",
   "execution_count": 2,
   "id": "initial_id",
   "metadata": {
    "ExecuteTime": {
     "end_time": "2024-05-01T04:33:08.586053Z",
     "start_time": "2024-05-01T04:33:08.584513Z"
    }
   },
   "outputs": [],
   "source": [
    "import pandas as pd\n",
    "\n",
    "file_path_bid = '/Users/gali/Downloads/GRU_predicted_bid_prices.csv'\n",
    "file_path_ask = '/Users/gali/Downloads/GRU_predicted_ask_prices.csv'"
   ]
  },
  {
   "cell_type": "markdown",
   "id": "2bd2700fc6b8932c",
   "metadata": {},
   "source": [
    "Experiment 4: Moving Average Crossover\n",
    "This strategy involves using short-term and long-term moving averages. A buy signal is typically generated when the short-term moving average crosses above the long-term moving average, indicating a potential upward trend. Conversely, a sell signal is triggered when the short-term moving average crosses below."
   ]
  },
  {
   "cell_type": "code",
   "execution_count": 8,
   "id": "6c93cd45f75653be",
   "metadata": {
    "ExecuteTime": {
     "end_time": "2024-05-01T04:33:22.417325Z",
     "start_time": "2024-05-01T04:33:22.402467Z"
    }
   },
   "outputs": [],
   "source": [
    "predictions_bid = pd.read_csv(file_path_bid,index_col = 1)\n",
    "predictions_bid = predictions_bid.rename_axis('time')\n",
    "predictions_bid = predictions_bid.drop('Type',axis = 1)"
   ]
  },
  {
   "cell_type": "code",
   "execution_count": 9,
   "id": "e2e32419-54a7-42de-a4a3-b4fd754acc07",
   "metadata": {},
   "outputs": [],
   "source": [
    "predictions_ask = pd.read_csv(file_path_ask,index_col = 1)\n",
    "predictions_ask = predictions_ask.rename_axis('time')\n",
    "predictions_ask = predictions_ask.drop('Type',axis = 1)"
   ]
  },
  {
   "cell_type": "code",
   "execution_count": 10,
   "id": "0d66102b-12c4-4a0a-bfe3-245ee50b4a30",
   "metadata": {},
   "outputs": [
    {
     "data": {
      "text/html": [
       "<div>\n",
       "<style scoped>\n",
       "    .dataframe tbody tr th:only-of-type {\n",
       "        vertical-align: middle;\n",
       "    }\n",
       "\n",
       "    .dataframe tbody tr th {\n",
       "        vertical-align: top;\n",
       "    }\n",
       "\n",
       "    .dataframe thead th {\n",
       "        text-align: right;\n",
       "    }\n",
       "</style>\n",
       "<table border=\"1\" class=\"dataframe\">\n",
       "  <thead>\n",
       "    <tr style=\"text-align: right;\">\n",
       "      <th></th>\n",
       "      <th>BID Price Predicted</th>\n",
       "      <th>ASK Price Predicted</th>\n",
       "      <th>price</th>\n",
       "    </tr>\n",
       "    <tr>\n",
       "      <th>time</th>\n",
       "      <th></th>\n",
       "      <th></th>\n",
       "      <th></th>\n",
       "    </tr>\n",
       "  </thead>\n",
       "  <tbody>\n",
       "    <tr>\n",
       "      <th>1</th>\n",
       "      <td>135.045210</td>\n",
       "      <td>120.793860</td>\n",
       "      <td>127.919535</td>\n",
       "    </tr>\n",
       "    <tr>\n",
       "      <th>2</th>\n",
       "      <td>135.054730</td>\n",
       "      <td>120.803640</td>\n",
       "      <td>127.929185</td>\n",
       "    </tr>\n",
       "    <tr>\n",
       "      <th>3</th>\n",
       "      <td>135.061200</td>\n",
       "      <td>120.810310</td>\n",
       "      <td>127.935755</td>\n",
       "    </tr>\n",
       "    <tr>\n",
       "      <th>4</th>\n",
       "      <td>134.370150</td>\n",
       "      <td>120.100110</td>\n",
       "      <td>127.235130</td>\n",
       "    </tr>\n",
       "    <tr>\n",
       "      <th>5</th>\n",
       "      <td>134.306810</td>\n",
       "      <td>120.035020</td>\n",
       "      <td>127.170915</td>\n",
       "    </tr>\n",
       "    <tr>\n",
       "      <th>...</th>\n",
       "      <td>...</td>\n",
       "      <td>...</td>\n",
       "      <td>...</td>\n",
       "    </tr>\n",
       "    <tr>\n",
       "      <th>12734</th>\n",
       "      <td>111.592050</td>\n",
       "      <td>96.691480</td>\n",
       "      <td>104.141765</td>\n",
       "    </tr>\n",
       "    <tr>\n",
       "      <th>12735</th>\n",
       "      <td>111.489680</td>\n",
       "      <td>96.586280</td>\n",
       "      <td>104.037980</td>\n",
       "    </tr>\n",
       "    <tr>\n",
       "      <th>12736</th>\n",
       "      <td>111.427124</td>\n",
       "      <td>96.521996</td>\n",
       "      <td>103.974560</td>\n",
       "    </tr>\n",
       "    <tr>\n",
       "      <th>12737</th>\n",
       "      <td>111.707610</td>\n",
       "      <td>96.810250</td>\n",
       "      <td>104.258930</td>\n",
       "    </tr>\n",
       "    <tr>\n",
       "      <th>12738</th>\n",
       "      <td>111.888850</td>\n",
       "      <td>96.996500</td>\n",
       "      <td>104.442675</td>\n",
       "    </tr>\n",
       "  </tbody>\n",
       "</table>\n",
       "<p>12738 rows × 3 columns</p>\n",
       "</div>"
      ],
      "text/plain": [
       "       BID Price Predicted  ASK Price Predicted       price\n",
       "time                                                       \n",
       "1               135.045210           120.793860  127.919535\n",
       "2               135.054730           120.803640  127.929185\n",
       "3               135.061200           120.810310  127.935755\n",
       "4               134.370150           120.100110  127.235130\n",
       "5               134.306810           120.035020  127.170915\n",
       "...                    ...                  ...         ...\n",
       "12734           111.592050            96.691480  104.141765\n",
       "12735           111.489680            96.586280  104.037980\n",
       "12736           111.427124            96.521996  103.974560\n",
       "12737           111.707610            96.810250  104.258930\n",
       "12738           111.888850            96.996500  104.442675\n",
       "\n",
       "[12738 rows x 3 columns]"
      ]
     },
     "execution_count": 10,
     "metadata": {},
     "output_type": "execute_result"
    }
   ],
   "source": [
    "merged_df = pd.merge(predictions_bid, predictions_ask, left_index=True, right_index=True, how='inner')\n",
    "\n",
    "merged_df = merged_df.dropna()\n",
    "merged_df['price'] = merged_df[['BID Price Predicted', 'ASK Price Predicted']].mean(axis=1)\n",
    "merged_df"
   ]
  },
  {
   "cell_type": "code",
   "execution_count": 16,
   "id": "2076f705-649a-4430-b004-028ea7dcc2c9",
   "metadata": {},
   "outputs": [],
   "source": [
    "file_path = '/Users/gali/Downloads/filtered_data_mimed0101.csv'\n",
    "actual = pd.read_csv(file_path, index_col = 1)\n",
    "actual_ask = actual[actual['Type'] == 'ask']\n",
    "actual_ask = actual_ask['Price'].to_frame()\n",
    "actual_bid = actual[actual['Type'] == 'bid']\n",
    "actual_bid = actual_bid['Price'].to_frame()\n",
    "#actual = actual['Price']"
   ]
  },
  {
   "cell_type": "code",
   "execution_count": 18,
   "id": "0d527d8a-594f-4c2b-909f-8123ce310dc7",
   "metadata": {},
   "outputs": [
    {
     "data": {
      "text/html": [
       "<div>\n",
       "<style scoped>\n",
       "    .dataframe tbody tr th:only-of-type {\n",
       "        vertical-align: middle;\n",
       "    }\n",
       "\n",
       "    .dataframe tbody tr th {\n",
       "        vertical-align: top;\n",
       "    }\n",
       "\n",
       "    .dataframe thead th {\n",
       "        text-align: right;\n",
       "    }\n",
       "</style>\n",
       "<table border=\"1\" class=\"dataframe\">\n",
       "  <thead>\n",
       "    <tr style=\"text-align: right;\">\n",
       "      <th></th>\n",
       "      <th>Price_x</th>\n",
       "      <th>Price_y</th>\n",
       "      <th>price</th>\n",
       "    </tr>\n",
       "    <tr>\n",
       "      <th>adjusted_time_ints</th>\n",
       "      <th></th>\n",
       "      <th></th>\n",
       "      <th></th>\n",
       "    </tr>\n",
       "  </thead>\n",
       "  <tbody>\n",
       "    <tr>\n",
       "      <th>0.0</th>\n",
       "      <td>258.684211</td>\n",
       "      <td>269.0</td>\n",
       "      <td>263.842105</td>\n",
       "    </tr>\n",
       "    <tr>\n",
       "      <th>1.0</th>\n",
       "      <td>254.000000</td>\n",
       "      <td>267.0</td>\n",
       "      <td>260.500000</td>\n",
       "    </tr>\n",
       "    <tr>\n",
       "      <th>2.0</th>\n",
       "      <td>258.000000</td>\n",
       "      <td>269.0</td>\n",
       "      <td>263.500000</td>\n",
       "    </tr>\n",
       "    <tr>\n",
       "      <th>3.0</th>\n",
       "      <td>259.000000</td>\n",
       "      <td>269.0</td>\n",
       "      <td>264.000000</td>\n",
       "    </tr>\n",
       "    <tr>\n",
       "      <th>4.0</th>\n",
       "      <td>261.000000</td>\n",
       "      <td>270.0</td>\n",
       "      <td>265.500000</td>\n",
       "    </tr>\n",
       "    <tr>\n",
       "      <th>...</th>\n",
       "      <td>...</td>\n",
       "      <td>...</td>\n",
       "      <td>...</td>\n",
       "    </tr>\n",
       "    <tr>\n",
       "      <th>63745.0</th>\n",
       "      <td>107.444444</td>\n",
       "      <td>112.0</td>\n",
       "      <td>109.722222</td>\n",
       "    </tr>\n",
       "    <tr>\n",
       "      <th>63746.0</th>\n",
       "      <td>107.727273</td>\n",
       "      <td>112.0</td>\n",
       "      <td>109.863636</td>\n",
       "    </tr>\n",
       "    <tr>\n",
       "      <th>63747.0</th>\n",
       "      <td>105.700000</td>\n",
       "      <td>113.0</td>\n",
       "      <td>109.350000</td>\n",
       "    </tr>\n",
       "    <tr>\n",
       "      <th>63748.0</th>\n",
       "      <td>98.000000</td>\n",
       "      <td>113.0</td>\n",
       "      <td>105.500000</td>\n",
       "    </tr>\n",
       "    <tr>\n",
       "      <th>63749.0</th>\n",
       "      <td>108.210526</td>\n",
       "      <td>112.0</td>\n",
       "      <td>110.105263</td>\n",
       "    </tr>\n",
       "  </tbody>\n",
       "</table>\n",
       "<p>63750 rows × 3 columns</p>\n",
       "</div>"
      ],
      "text/plain": [
       "                       Price_x  Price_y       price\n",
       "adjusted_time_ints                                 \n",
       "0.0                 258.684211    269.0  263.842105\n",
       "1.0                 254.000000    267.0  260.500000\n",
       "2.0                 258.000000    269.0  263.500000\n",
       "3.0                 259.000000    269.0  264.000000\n",
       "4.0                 261.000000    270.0  265.500000\n",
       "...                        ...      ...         ...\n",
       "63745.0             107.444444    112.0  109.722222\n",
       "63746.0             107.727273    112.0  109.863636\n",
       "63747.0             105.700000    113.0  109.350000\n",
       "63748.0              98.000000    113.0  105.500000\n",
       "63749.0             108.210526    112.0  110.105263\n",
       "\n",
       "[63750 rows x 3 columns]"
      ]
     },
     "execution_count": 18,
     "metadata": {},
     "output_type": "execute_result"
    }
   ],
   "source": [
    "actual = pd.merge(actual_ask, actual_bid, left_index=True, right_index=True, how='inner')\n",
    "\n",
    "actual = actual.dropna()\n",
    "actual['price'] = actual[['Price_x', 'Price_y']].mean(axis=1)\n",
    "actual"
   ]
  },
  {
   "cell_type": "code",
   "execution_count": 19,
   "id": "dd58e6c5-909d-4a75-b429-7f34b4f21044",
   "metadata": {},
   "outputs": [
    {
     "data": {
      "text/html": [
       "<div>\n",
       "<style scoped>\n",
       "    .dataframe tbody tr th:only-of-type {\n",
       "        vertical-align: middle;\n",
       "    }\n",
       "\n",
       "    .dataframe tbody tr th {\n",
       "        vertical-align: top;\n",
       "    }\n",
       "\n",
       "    .dataframe thead th {\n",
       "        text-align: right;\n",
       "    }\n",
       "</style>\n",
       "<table border=\"1\" class=\"dataframe\">\n",
       "  <thead>\n",
       "    <tr style=\"text-align: right;\">\n",
       "      <th></th>\n",
       "      <th>Pred_price</th>\n",
       "      <th>price</th>\n",
       "    </tr>\n",
       "  </thead>\n",
       "  <tbody>\n",
       "    <tr>\n",
       "      <th>1.0</th>\n",
       "      <td>127.919535</td>\n",
       "      <td>260.500000</td>\n",
       "    </tr>\n",
       "    <tr>\n",
       "      <th>2.0</th>\n",
       "      <td>127.929185</td>\n",
       "      <td>263.500000</td>\n",
       "    </tr>\n",
       "    <tr>\n",
       "      <th>3.0</th>\n",
       "      <td>127.935755</td>\n",
       "      <td>264.000000</td>\n",
       "    </tr>\n",
       "    <tr>\n",
       "      <th>4.0</th>\n",
       "      <td>127.235130</td>\n",
       "      <td>265.500000</td>\n",
       "    </tr>\n",
       "    <tr>\n",
       "      <th>5.0</th>\n",
       "      <td>127.170915</td>\n",
       "      <td>261.000000</td>\n",
       "    </tr>\n",
       "    <tr>\n",
       "      <th>...</th>\n",
       "      <td>...</td>\n",
       "      <td>...</td>\n",
       "    </tr>\n",
       "    <tr>\n",
       "      <th>12734.0</th>\n",
       "      <td>104.141765</td>\n",
       "      <td>283.500000</td>\n",
       "    </tr>\n",
       "    <tr>\n",
       "      <th>12735.0</th>\n",
       "      <td>104.037980</td>\n",
       "      <td>284.000000</td>\n",
       "    </tr>\n",
       "    <tr>\n",
       "      <th>12736.0</th>\n",
       "      <td>103.974560</td>\n",
       "      <td>273.718750</td>\n",
       "    </tr>\n",
       "    <tr>\n",
       "      <th>12737.0</th>\n",
       "      <td>104.258930</td>\n",
       "      <td>283.083333</td>\n",
       "    </tr>\n",
       "    <tr>\n",
       "      <th>12738.0</th>\n",
       "      <td>104.442675</td>\n",
       "      <td>278.500000</td>\n",
       "    </tr>\n",
       "  </tbody>\n",
       "</table>\n",
       "<p>12738 rows × 2 columns</p>\n",
       "</div>"
      ],
      "text/plain": [
       "         Pred_price       price\n",
       "1.0      127.919535  260.500000\n",
       "2.0      127.929185  263.500000\n",
       "3.0      127.935755  264.000000\n",
       "4.0      127.235130  265.500000\n",
       "5.0      127.170915  261.000000\n",
       "...             ...         ...\n",
       "12734.0  104.141765  283.500000\n",
       "12735.0  104.037980  284.000000\n",
       "12736.0  103.974560  273.718750\n",
       "12737.0  104.258930  283.083333\n",
       "12738.0  104.442675  278.500000\n",
       "\n",
       "[12738 rows x 2 columns]"
      ]
     },
     "execution_count": 19,
     "metadata": {},
     "output_type": "execute_result"
    }
   ],
   "source": [
    "sim = merged_df['price']\n",
    "act = actual['price']\n",
    "predictions_df = pd.merge(sim, act, left_index=True, right_index=True, how='inner')\n",
    "predictions_df = predictions_df.dropna()\n",
    "predictions_df = predictions_df.rename(columns={'price_x': 'Pred_price'})\n",
    "predictions_df = predictions_df.rename(columns={'price_y': 'price'})\n",
    "predictions_df"
   ]
  },
  {
   "cell_type": "code",
   "execution_count": 20,
   "id": "e592c5804f4ba4b4",
   "metadata": {
    "ExecuteTime": {
     "end_time": "2024-05-01T04:33:40.813911Z",
     "start_time": "2024-05-01T04:33:40.806507Z"
    }
   },
   "outputs": [
    {
     "name": "stdout",
     "output_type": "stream",
     "text": [
      "1.0        0\n",
      "2.0        0\n",
      "3.0        0\n",
      "4.0        0\n",
      "5.0        0\n",
      "          ..\n",
      "12734.0   -1\n",
      "12735.0   -1\n",
      "12736.0   -1\n",
      "12737.0    1\n",
      "12738.0    1\n",
      "Name: Signal, Length: 12738, dtype: int64\n"
     ]
    }
   ],
   "source": [
    "\n",
    "\n",
    "# Calculate moving averages\n",
    "predictions_df['short_ma'] = predictions_df['Pred_price'].rolling(window=5).mean()  # 5-period moving average\n",
    "predictions_df['long_ma'] = predictions_df['Pred_price'].rolling(window=20).mean()  # 20-period moving average\n",
    "\n",
    "# Generate signals\n",
    "predictions_df['Signal'] = 0\n",
    "predictions_df.loc[predictions_df['short_ma'] > predictions_df['long_ma'], 'Signal'] = 1\n",
    "predictions_df.loc[predictions_df['short_ma'] < predictions_df['long_ma'], 'Signal'] = -1\n",
    "print(predictions_df['Signal'])"
   ]
  },
  {
   "cell_type": "code",
   "execution_count": 28,
   "id": "1fdd2623cd9c5b2d",
   "metadata": {
    "ExecuteTime": {
     "end_time": "2024-05-01T04:37:54.213262Z",
     "start_time": "2024-05-01T04:37:53.762754Z"
    }
   },
   "outputs": [],
   "source": [
    "def simulate_trading(df, initial_capital):\n",
    "    cash = initial_capital\n",
    "    holdings = 0\n",
    "    portfolio_values = []\n",
    "\n",
    "    # Assume the price to use for trading is the predicted price\n",
    "    for index, row in df.iterrows():\n",
    "        if row['Signal'] == 1 and cash > 0:  # Buy\n",
    "            holdings = cash / row['price']  # Buy as much as possible\n",
    "            cash = 0\n",
    "        elif row['Signal'] == -1 and holdings > 0:  # Sell\n",
    "            cash = holdings * row['price']\n",
    "            holdings = 0\n",
    "        \n",
    "        # Update portfolio value for each step\n",
    "        portfolio_value = cash + holdings * row['price']\n",
    "        portfolio_values.append(portfolio_value)\n",
    "\n",
    "    df['Portfolio_Value'] = portfolio_values\n",
    "    return df\n",
    "\n",
    "# Starting capital for the simulation\n",
    "initial_capital = 10000  # Adjust as necessary\n",
    "\n",
    "# Run the trading simulation\n",
    "predictions_df = simulate_trading(predictions_df, initial_capital)\n"
   ]
  },
  {
   "cell_type": "code",
   "execution_count": 29,
   "id": "9977fd46b8dc7a9c",
   "metadata": {
    "ExecuteTime": {
     "end_time": "2024-05-01T04:38:02.588072Z",
     "start_time": "2024-05-01T04:38:02.585232Z"
    }
   },
   "outputs": [
    {
     "name": "stdout",
     "output_type": "stream",
     "text": [
      "Initial Capital: $10000\n",
      "Final Portfolio Value: $9097.18\n",
      "Profit or Loss: $-902.82\n"
     ]
    }
   ],
   "source": [
    "def calculate_profit(df, initial_capital):\n",
    "    final_portfolio_value = df['Portfolio_Value'].iloc[-1]\n",
    "    profit = final_portfolio_value - initial_capital\n",
    "    return profit\n",
    "\n",
    "# Calculate the profit\n",
    "profit = calculate_profit(predictions_df, initial_capital)\n",
    "print(f\"Initial Capital: ${initial_capital}\")\n",
    "print(f\"Final Portfolio Value: ${predictions_df['Portfolio_Value'].iloc[-1]:.2f}\")\n",
    "print(f\"Profit or Loss: ${profit:.2f}\")\n"
   ]
  },
  {
   "cell_type": "code",
   "execution_count": 30,
   "id": "488a70ab8fc2bee4",
   "metadata": {
    "ExecuteTime": {
     "end_time": "2024-05-01T04:38:43.449564Z",
     "start_time": "2024-05-01T04:38:43.328141Z"
    }
   },
   "outputs": [
    {
     "data": {
      "image/png": "[encoded data removed]",
      "text/plain": [
       "<Figure size 1200x600 with 1 Axes>"
      ]
     },
     "metadata": {},
     "output_type": "display_data"
    }
   ],
   "source": [
    "import matplotlib.pyplot as plt\n",
    "\n",
    "plt.figure(figsize=(12, 6))\n",
    "plt.plot(predictions_df['Portfolio_Value'], label='Portfolio Value')\n",
    "plt.title('Portfolio Value Over Time Using Moving Average Crossover Strategy')\n",
    "plt.xlabel('Timestamp')\n",
    "plt.ylabel('Portfolio Value ($)')\n",
    "plt.legend()\n",
    "plt.grid(True)\n",
    "plt.show()\n"
   ]
  },
  {
   "cell_type": "code",
   "execution_count": null,
   "id": "cc877e360c5637da",
   "metadata": {},
   "outputs": [],
   "source": []
  }
 ],
 "metadata": {
  "kernelspec": {
   "display_name": "Python 3 (ipykernel)",
   "language": "python",
   "name": "python3"
  },
  "language_info": {
   "codemirror_mode": {
    "name": "ipython",
    "version": 3
   },
   "file_extension": ".py",
   "mimetype": "text/x-python",
   "name": "python",
   "nbconvert_exporter": "python",
   "pygments_lexer": "ipython3",
   "version": "3.11.3"
  }
 },
 "nbformat": 4,
 "nbformat_minor": 5
}
