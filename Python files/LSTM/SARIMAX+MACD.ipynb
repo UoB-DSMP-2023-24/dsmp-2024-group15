{
 "cells": [
  {
   "metadata": {
    "ExecuteTime": {
     "end_time": "2024-05-01T23:28:13.833426Z",
     "start_time": "2024-05-01T23:28:13.828666Z"
    }
   },
   "cell_type": "code",
   "source": "import pandas as pd\n",
   "id": "dd3b7d54daf7c2f5",
   "outputs": [],
   "execution_count": 6
  },
  {
   "metadata": {
    "ExecuteTime": {
     "end_time": "2024-05-01T23:28:16.002713Z",
     "start_time": "2024-05-01T23:28:15.996725Z"
    }
   },
   "cell_type": "code",
   "source": "predictions_df = pd.read_csv('/Users/tanmaysagarhuria/Downloads/SARIMAX_asks (1).csv') \n",
   "id": "1bd0364321324fe9",
   "outputs": [],
   "execution_count": 7
  },
  {
   "metadata": {
    "ExecuteTime": {
     "end_time": "2024-05-01T23:28:17.689513Z",
     "start_time": "2024-05-01T23:28:17.618484Z"
    }
   },
   "cell_type": "code",
   "source": "df= pd.read_csv('/Users/tanmaysagarhuria/Downloads/filtered_data_mimed0101.csv')",
   "id": "8acffe85f95bd84c",
   "outputs": [],
   "execution_count": 8
  },
  {
   "metadata": {
    "ExecuteTime": {
     "end_time": "2024-05-01T23:28:19.272452Z",
     "start_time": "2024-05-01T23:28:19.264839Z"
    }
   },
   "cell_type": "code",
   "source": "df = pd.concat([df, predictions_df], axis=1)",
   "id": "a64ad875daf5390",
   "outputs": [],
   "execution_count": 9
  },
  {
   "metadata": {
    "ExecuteTime": {
     "end_time": "2024-05-01T23:28:20.470753Z",
     "start_time": "2024-05-01T23:28:20.466464Z"
    }
   },
   "cell_type": "code",
   "source": "print(df.head())",
   "id": "9c349640a66a664",
   "outputs": [
    {
     "name": "stdout",
     "output_type": "stream",
     "text": [
      "  Type  adjusted_time_ints    adjusted_time       Price  Volume  \\\n",
      "0  ask                 0.0  0 days 00:00:00  258.684211     2.0   \n",
      "1  ask                 1.0  0 days 00:01:00  254.000000     5.0   \n",
      "2  ask                 2.0  0 days 00:02:00  258.000000     1.0   \n",
      "3  ask                 3.0  0 days 00:03:00  259.000000     4.0   \n",
      "4  ask                 4.0  0 days 00:04:00  261.000000     2.0   \n",
      "\n",
      "   pred_ask_price  \n",
      "0      259.058784  \n",
      "1      257.922733  \n",
      "2      266.827586  \n",
      "3      280.176471  \n",
      "4      283.926437  \n"
     ]
    }
   ],
   "execution_count": 10
  },
  {
   "metadata": {},
   "cell_type": "code",
   "outputs": [],
   "execution_count": null,
   "source": "df.rename(columns={' ': 'pred_ask_price'}, inplace=True)",
   "id": "3b6612f46440dcf9"
  },
  {
   "metadata": {
    "ExecuteTime": {
     "end_time": "2024-05-01T23:28:57.212802Z",
     "start_time": "2024-05-01T23:28:57.193044Z"
    }
   },
   "cell_type": "code",
   "source": "df.fillna(method='ffill', inplace=True)",
   "id": "9da8c2e45f8da8c",
   "outputs": [
    {
     "name": "stderr",
     "output_type": "stream",
     "text": [
      "/var/folders/11/mvf3p5t161x6_9by0kd_xglr0000gn/T/ipykernel_60977/4002983762.py:1: FutureWarning: DataFrame.fillna with 'method' is deprecated and will raise in a future version. Use obj.ffill() or obj.bfill() instead.\n",
      "  df.fillna(method='ffill', inplace=True)\n"
     ]
    }
   ],
   "execution_count": 11
  },
  {
   "metadata": {
    "ExecuteTime": {
     "end_time": "2024-05-01T23:29:19.174106Z",
     "start_time": "2024-05-01T23:29:18.901959Z"
    }
   },
   "cell_type": "code",
   "source": [
    "import pandas as pd\n",
    "import numpy as np\n",
    "import matplotlib.pyplot as plt"
   ],
   "id": "c19a2d45d1a5cf7a",
   "outputs": [],
   "execution_count": 12
  },
  {
   "metadata": {
    "ExecuteTime": {
     "end_time": "2024-05-01T23:29:34.735662Z",
     "start_time": "2024-05-01T23:29:34.727931Z"
    }
   },
   "cell_type": "code",
   "source": [
    "def calculate_macd(df, fast_period=12, slow_period=26, signal_period=9):\n",
    "    df['EMA_fast'] = df['pred_ask_price'].ewm(span=fast_period, adjust=False).mean()\n",
    "    df['EMA_slow'] = df['pred_ask_price'].ewm(span=slow_period, adjust=False).mean()\n",
    "    df['MACD'] = df['EMA_fast'] - df['EMA_slow']\n",
    "    df['Signal_Line'] = df['MACD'].ewm(span=signal_period, adjust=False).mean()\n",
    "\n",
    "calculate_macd(df)"
   ],
   "id": "c5eda7d16e07e41d",
   "outputs": [],
   "execution_count": 13
  },
  {
   "metadata": {
    "ExecuteTime": {
     "end_time": "2024-05-01T23:29:49.243409Z",
     "start_time": "2024-05-01T23:29:49.237711Z"
    }
   },
   "cell_type": "code",
   "source": [
    "df['Buy_Signal'] = (df['MACD'] > df['Signal_Line']) & (df['MACD'].shift(1) <= df['Signal_Line'].shift(1))\n",
    "df['Sell_Signal'] = (df['MACD'] < df['Signal_Line']) & (df['MACD'].shift(1) >= df['Signal_Line'].shift(1))"
   ],
   "id": "4390eb81ee605773",
   "outputs": [],
   "execution_count": 14
  },
  {
   "metadata": {
    "ExecuteTime": {
     "end_time": "2024-05-01T23:31:05.955438Z",
     "start_time": "2024-05-01T23:31:03.960759Z"
    }
   },
   "cell_type": "code",
   "source": [
    "initial_capital = 10000.0\n",
    "capital = initial_capital\n",
    "shares = 0\n",
    "portfolio_values = []\n",
    "\n",
    "# Simulate trading\n",
    "for index, row in df.iterrows():\n",
    "    if row['Buy_Signal'] and capital > 0:  # Buy if we have capital and a buy signal\n",
    "        shares = capital / row['pred_ask_price']\n",
    "        capital = 0  # All capital is converted into shares\n",
    "        print(f\"Buying at {row['pred_ask_price']} on index {index}\")\n",
    "\n",
    "    if row['Sell_Signal'] and shares > 0:  # Sell if we have shares and a sell signal\n",
    "        capital = shares * row['pred_ask_price']\n",
    "        shares = 0  # All shares are sold\n",
    "        print(f\"Selling at {row['pred_ask_price']} on index {index}\")\n",
    "\n",
    "    portfolio_value = capital + (shares * row['pred_ask_price'])\n",
    "    portfolio_values.append(portfolio_value)\n",
    "\n",
    "# Final values\n",
    "final_portfolio_value = capital + (shares * df['pred_ask_price'].iloc[-1]) if shares > 0 else capital\n",
    "profit = final_portfolio_value - initial_capital\n",
    "\n",
    "print(f\"Final Portfolio Value: ${final_portfolio_value:.2f}\")\n",
    "print(f\"Total Profit/Loss: ${profit:.2f}\")\n"
   ],
   "id": "b1cf478299528f0d",
   "outputs": [
    {
     "name": "stdout",
     "output_type": "stream",
     "text": [
      "Buying at 266.82758620689657 on index 2\n",
      "Selling at 290.8489240228371 on index 18\n",
      "Buying at 299.2819499341239 on index 20\n",
      "Selling at 329.0 on index 36\n",
      "Buying at 312.8173007026896 on index 64\n",
      "Selling at 318.14516129032256 on index 75\n",
      "Buying at 332.2061403508772 on index 76\n",
      "Selling at 315.8422939 on index 80\n",
      "Buying at 298.1147666 on index 99\n",
      "Selling at 322.19172413793103 on index 118\n",
      "Buying at 294.39943342776206 on index 137\n",
      "Selling at 333.05227882037536 on index 164\n",
      "Buying at 309.2838317283325 on index 181\n",
      "Selling at 300.1071805702218 on index 183\n",
      "Buying at 313.12486855941114 on index 188\n",
      "Selling at 322.4559118236473 on index 200\n",
      "Buying at 342.18558951965065 on index 203\n",
      "Selling at 329.37221727515583 on index 204\n",
      "Buying at 304.26974514256875 on index 219\n",
      "Selling at 322.2605233219568 on index 248\n",
      "Buying at 282.0380715911442 on index 267\n",
      "Selling at 311.5309882747069 on index 287\n",
      "Buying at 276.9411025 on index 305\n",
      "Selling at 295.3238731218698 on index 334\n",
      "Buying at 255.4605684547638 on index 356\n",
      "Selling at 260.59882903981264 on index 371\n",
      "Buying at 211.22344665885112 on index 392\n",
      "Selling at 220.16199158485273 on index 420\n",
      "Buying at 196.77459333849728 on index 435\n",
      "Selling at 204.0217339383807 on index 459\n",
      "Buying at 167.49307913293288 on index 481\n",
      "Selling at 155.42126623376623 on index 489\n",
      "Buying at 149.45813148788926 on index 499\n",
      "Selling at 150.8095838587642 on index 531\n",
      "Buying at 148.76437587657784 on index 546\n",
      "Selling at 160.23912003825922 on index 566\n",
      "Buying at 170.8913043478261 on index 576\n",
      "Selling at 164.77914252607184 on index 584\n",
      "Buying at 151.8836571998007 on index 605\n",
      "Selling at 147.2959981600736 on index 617\n",
      "Buying at 149.64764860348532 on index 624\n",
      "Selling at 180.30937648738697 on index 657\n",
      "Buying at 171.30349085727855 on index 683\n",
      "Selling at 186.8762169680111 on index 707\n",
      "Buying at 198.1026794445531 on index 721\n",
      "Selling at 204.4342492639843 on index 731\n",
      "Buying at 174.97848191061718 on index 757\n",
      "Selling at 170.1261523532266 on index 770\n",
      "Buying at 146.33265765765765 on index 789\n",
      "Selling at 141.35298544907175 on index 821\n",
      "Buying at 134.97653890824623 on index 842\n",
      "Selling at 128.8360097323601 on index 854\n",
      "Buying at 125.3967213114754 on index 868\n",
      "Selling at 122.04855072463768 on index 870\n",
      "Buying at 119.27795294688332 on index 880\n",
      "Selling at 118.89267676767676 on index 915\n",
      "Buying at 120.405035971223 on index 916\n",
      "Selling at 118.89539322982948 on index 931\n",
      "Buying at 117.66195856873824 on index 963\n",
      "Selling at 116.17363721804512 on index 974\n",
      "Buying at 115.58071135430916 on index 990\n",
      "Selling at 113.19706601466991 on index 1001\n",
      "Buying at 116.21150144369588 on index 1006\n",
      "Selling at 113.1936749203236 on index 1012\n",
      "Buying at 115.77869385983944 on index 1014\n",
      "Selling at 114.13196069255966 on index 1017\n",
      "Buying at 115.51080078551168 on index 1020\n",
      "Selling at 112.2804054054054 on index 1021\n",
      "Buying at 115.68740245261984 on index 1024\n",
      "Selling at 113.54582050674875 on index 1037\n",
      "Buying at 115.06058301647656 on index 1043\n",
      "Selling at 113.32485136741974 on index 1044\n",
      "Buying at 115.31176470588235 on index 1045\n",
      "Selling at 113.4435946462715 on index 1046\n",
      "Buying at 114.93844079982028 on index 1049\n",
      "Selling at 112.77656104380242 on index 1051\n",
      "Buying at 114.16101099929791 on index 1054\n",
      "Selling at 113.75357056402808 on index 1055\n",
      "Buying at 116.06909258406264 on index 1056\n",
      "Selling at 114.18094782192436 on index 1063\n",
      "Buying at 114.18094782192436 on index 1078\n",
      "Final Portfolio Value: $16995.32\n",
      "Total Profit/Loss: $6995.32\n"
     ]
    }
   ],
   "execution_count": 16
  },
  {
   "metadata": {
    "ExecuteTime": {
     "end_time": "2024-05-01T23:34:18.558752Z",
     "start_time": "2024-05-01T23:34:18.466263Z"
    }
   },
   "cell_type": "code",
   "source": [
    "import matplotlib.pyplot as plt\n",
    "\n",
    "models = ['MACD (Scaled)', 'LSTM+MACD (Actual)', 'GRU+MACD (Ask_pred)', 'SARIMAX+MACD']\n",
    "values = [1309611.86, 38343.52, 2734.07, 16995.32]\n",
    "\n",
    "# Creating the bar chart\n",
    "plt.figure(figsize=(10, 6))\n",
    "plt.bar(models, values, color=['blue', 'green', 'red', 'purple'])\n",
    "\n",
    "# Adding title and labels\n",
    "plt.title('Comparison of Final Portfolio Values Using Different Models with MACD')\n",
    "plt.xlabel('Models')\n",
    "plt.ylabel('Final Portfolio Value ($)')\n",
    "\n",
    "# Adding value labels on top of each bar\n",
    "for i in range(len(values)):\n",
    "    plt.text(i, values[i], f'${values[i]:,.2f}', ha = 'center', va = 'bottom')\n",
    "\n",
    "# Show the plot\n",
    "plt.tight_layout()\n",
    "plt.show()"
   ],
   "id": "27be8f1843e262ce",
   "outputs": [
    {
     "data": {
      "text/plain": [
       "<Figure size 1000x600 with 1 Axes>"
      ],
      "image/png": "[encoded data removed]"
     },
     "metadata": {},
     "output_type": "display_data"
    }
   ],
   "execution_count": 17
  },
  {
   "metadata": {},
   "cell_type": "code",
   "outputs": [],
   "execution_count": null,
   "source": "",
   "id": "638f9d02e5685a44"
  }
 ],
 "metadata": {
  "kernelspec": {
   "display_name": "Python 3",
   "language": "python",
   "name": "python3"
  },
  "language_info": {
   "codemirror_mode": {
    "name": "ipython",
    "version": 2
   },
   "file_extension": ".py",
   "mimetype": "text/x-python",
   "name": "python",
   "nbconvert_exporter": "python",
   "pygments_lexer": "ipython2",
   "version": "2.7.6"
  }
 },
 "nbformat": 4,
 "nbformat_minor": 5
}
